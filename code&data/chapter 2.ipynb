{
 "cells": [
  {
   "cell_type": "code",
   "execution_count": 1,
   "id": "17561602",
   "metadata": {},
   "outputs": [],
   "source": [
    "import pandas as pd"
   ]
  },
  {
   "cell_type": "markdown",
   "id": "a95e7596",
   "metadata": {},
   "source": [
    "Filter out the publication published outside the period 1559-1659."
   ]
  },
  {
   "cell_type": "markdown",
   "id": "0da4df0c",
   "metadata": {},
   "source": [
    "Create a sub-dataset containing distinct publication information."
   ]
  },
  {
   "cell_type": "code",
   "execution_count": 7,
   "id": "101dd435",
   "metadata": {},
   "outputs": [],
   "source": [
    "all_data = pd.read_csv('data/pub_filter.csv')"
   ]
  },
  {
   "cell_type": "code",
   "execution_count": 8,
   "id": "dc89fc8d",
   "metadata": {},
   "outputs": [],
   "source": [
    "pub_row = all_data[['ODIS_ID', 'PUB_REF_TITLE', 'Language', 'Publication Year', 'Publication Period']]"
   ]
  },
  {
   "cell_type": "code",
   "execution_count": 9,
   "id": "e63860fe",
   "metadata": {},
   "outputs": [
    {
     "data": {
      "text/html": [
       "<div>\n",
       "<style scoped>\n",
       "    .dataframe tbody tr th:only-of-type {\n",
       "        vertical-align: middle;\n",
       "    }\n",
       "\n",
       "    .dataframe tbody tr th {\n",
       "        vertical-align: top;\n",
       "    }\n",
       "\n",
       "    .dataframe thead th {\n",
       "        text-align: right;\n",
       "    }\n",
       "</style>\n",
       "<table border=\"1\" class=\"dataframe\">\n",
       "  <thead>\n",
       "    <tr style=\"text-align: right;\">\n",
       "      <th></th>\n",
       "      <th>ODIS_ID</th>\n",
       "      <th>PUB_REF_TITLE</th>\n",
       "      <th>Language</th>\n",
       "      <th>Publication Year</th>\n",
       "      <th>Publication Period</th>\n",
       "    </tr>\n",
       "  </thead>\n",
       "  <tbody>\n",
       "    <tr>\n",
       "      <th>0</th>\n",
       "      <td>35786</td>\n",
       "      <td>Refutatio locorum communium theologicorum, Phi...</td>\n",
       "      <td>LATIN</td>\n",
       "      <td>1563.0</td>\n",
       "      <td>1560s</td>\n",
       "    </tr>\n",
       "    <tr>\n",
       "      <th>1</th>\n",
       "      <td>35914</td>\n",
       "      <td>Refutatio locorum communium theologicorum Phil...</td>\n",
       "      <td>LATIN</td>\n",
       "      <td>1563.0</td>\n",
       "      <td>1560s</td>\n",
       "    </tr>\n",
       "    <tr>\n",
       "      <th>2</th>\n",
       "      <td>36812</td>\n",
       "      <td>Refutatio locorum communium theologicorum Phil...</td>\n",
       "      <td>LATIN</td>\n",
       "      <td>1563.0</td>\n",
       "      <td>1560s</td>\n",
       "    </tr>\n",
       "    <tr>\n",
       "      <th>3</th>\n",
       "      <td>35786</td>\n",
       "      <td>Refutatio locorum communium theologicorum, Phi...</td>\n",
       "      <td>LATIN</td>\n",
       "      <td>1563.0</td>\n",
       "      <td>1560s</td>\n",
       "    </tr>\n",
       "    <tr>\n",
       "      <th>4</th>\n",
       "      <td>35914</td>\n",
       "      <td>Refutatio locorum communium theologicorum Phil...</td>\n",
       "      <td>LATIN</td>\n",
       "      <td>1563.0</td>\n",
       "      <td>1560s</td>\n",
       "    </tr>\n",
       "  </tbody>\n",
       "</table>\n",
       "</div>"
      ],
      "text/plain": [
       "   ODIS_ID                                      PUB_REF_TITLE Language  \\\n",
       "0    35786  Refutatio locorum communium theologicorum, Phi...    LATIN   \n",
       "1    35914  Refutatio locorum communium theologicorum Phil...    LATIN   \n",
       "2    36812  Refutatio locorum communium theologicorum Phil...    LATIN   \n",
       "3    35786  Refutatio locorum communium theologicorum, Phi...    LATIN   \n",
       "4    35914  Refutatio locorum communium theologicorum Phil...    LATIN   \n",
       "\n",
       "   Publication Year Publication Period  \n",
       "0            1563.0              1560s  \n",
       "1            1563.0              1560s  \n",
       "2            1563.0              1560s  \n",
       "3            1563.0              1560s  \n",
       "4            1563.0              1560s  "
      ]
     },
     "execution_count": 9,
     "metadata": {},
     "output_type": "execute_result"
    }
   ],
   "source": [
    "pub_row.head()"
   ]
  },
  {
   "cell_type": "code",
   "execution_count": 10,
   "id": "e5f80e82",
   "metadata": {},
   "outputs": [],
   "source": [
    "pub_dist = pub_row.drop_duplicates()"
   ]
  },
  {
   "cell_type": "code",
   "execution_count": 11,
   "id": "406bc86c",
   "metadata": {},
   "outputs": [
    {
     "data": {
      "text/plain": [
       "(2936, 5)"
      ]
     },
     "execution_count": 11,
     "metadata": {},
     "output_type": "execute_result"
    }
   ],
   "source": [
    "pub_dist.shape"
   ]
  },
  {
   "cell_type": "code",
   "execution_count": 12,
   "id": "ca17eb16",
   "metadata": {},
   "outputs": [
    {
     "data": {
      "text/html": [
       "<div>\n",
       "<style scoped>\n",
       "    .dataframe tbody tr th:only-of-type {\n",
       "        vertical-align: middle;\n",
       "    }\n",
       "\n",
       "    .dataframe tbody tr th {\n",
       "        vertical-align: top;\n",
       "    }\n",
       "\n",
       "    .dataframe thead th {\n",
       "        text-align: right;\n",
       "    }\n",
       "</style>\n",
       "<table border=\"1\" class=\"dataframe\">\n",
       "  <thead>\n",
       "    <tr style=\"text-align: right;\">\n",
       "      <th></th>\n",
       "      <th>ODIS_ID</th>\n",
       "      <th>PUB_REF_TITLE</th>\n",
       "      <th>Language</th>\n",
       "      <th>Publication Year</th>\n",
       "      <th>Publication Period</th>\n",
       "    </tr>\n",
       "  </thead>\n",
       "  <tbody>\n",
       "    <tr>\n",
       "      <th>0</th>\n",
       "      <td>35786</td>\n",
       "      <td>Refutatio locorum communium theologicorum, Phi...</td>\n",
       "      <td>LATIN</td>\n",
       "      <td>1563.0</td>\n",
       "      <td>1560s</td>\n",
       "    </tr>\n",
       "    <tr>\n",
       "      <th>1</th>\n",
       "      <td>35914</td>\n",
       "      <td>Refutatio locorum communium theologicorum Phil...</td>\n",
       "      <td>LATIN</td>\n",
       "      <td>1563.0</td>\n",
       "      <td>1560s</td>\n",
       "    </tr>\n",
       "    <tr>\n",
       "      <th>2</th>\n",
       "      <td>36812</td>\n",
       "      <td>Refutatio locorum communium theologicorum Phil...</td>\n",
       "      <td>LATIN</td>\n",
       "      <td>1563.0</td>\n",
       "      <td>1560s</td>\n",
       "    </tr>\n",
       "    <tr>\n",
       "      <th>5</th>\n",
       "      <td>35915</td>\n",
       "      <td>Oratio habita in sessione octava sacrosancti C...</td>\n",
       "      <td>LATIN</td>\n",
       "      <td>1563.0</td>\n",
       "      <td>1560s</td>\n",
       "    </tr>\n",
       "    <tr>\n",
       "      <th>6</th>\n",
       "      <td>35918</td>\n",
       "      <td>Regii vatis Davidis psalmi quinquaginta ordine...</td>\n",
       "      <td>LATIN</td>\n",
       "      <td>1565.0</td>\n",
       "      <td>1560s</td>\n",
       "    </tr>\n",
       "  </tbody>\n",
       "</table>\n",
       "</div>"
      ],
      "text/plain": [
       "   ODIS_ID                                      PUB_REF_TITLE Language  \\\n",
       "0    35786  Refutatio locorum communium theologicorum, Phi...    LATIN   \n",
       "1    35914  Refutatio locorum communium theologicorum Phil...    LATIN   \n",
       "2    36812  Refutatio locorum communium theologicorum Phil...    LATIN   \n",
       "5    35915  Oratio habita in sessione octava sacrosancti C...    LATIN   \n",
       "6    35918  Regii vatis Davidis psalmi quinquaginta ordine...    LATIN   \n",
       "\n",
       "   Publication Year Publication Period  \n",
       "0            1563.0              1560s  \n",
       "1            1563.0              1560s  \n",
       "2            1563.0              1560s  \n",
       "5            1563.0              1560s  \n",
       "6            1565.0              1560s  "
      ]
     },
     "execution_count": 12,
     "metadata": {},
     "output_type": "execute_result"
    }
   ],
   "source": [
    "pub_dist.head()"
   ]
  },
  {
   "cell_type": "code",
   "execution_count": 13,
   "id": "7669c186",
   "metadata": {},
   "outputs": [
    {
     "data": {
      "text/plain": [
       "True"
      ]
     },
     "execution_count": 13,
     "metadata": {},
     "output_type": "execute_result"
    }
   ],
   "source": [
    "# checking if there are still duplicates\n",
    "pub_id = list(set([ID for ID in pub_dist['ODIS_ID']]))\n",
    "len(pub_id) == len([ID for ID in pub_dist['ODIS_ID']])"
   ]
  },
  {
   "cell_type": "code",
   "execution_count": 14,
   "id": "03965ef0",
   "metadata": {},
   "outputs": [],
   "source": [
    "# pub_dist.to_csv('data/dist_pub.csv', index = False)"
   ]
  },
  {
   "cell_type": "markdown",
   "id": "306612d1",
   "metadata": {},
   "source": [
    "Create a sub-dataset containing distinct person information."
   ]
  },
  {
   "cell_type": "code",
   "execution_count": 15,
   "id": "f5bdf132",
   "metadata": {},
   "outputs": [],
   "source": [
    "per_row = all_data[['ODIS_PERS_ID',\n",
    "                    'REL_PERS_REF_SURNAME',\n",
    "                    'REL_PERS_REF_FIRST_NAME',\n",
    "                    'Full Name',\n",
    "                    'Birth Year',\n",
    "                    'Birth Country',\n",
    "                    'Birth Place',\n",
    "                    'Death Year',\n",
    "                    'Death Country',\n",
    "                    'Death Place']].sort_values(by = 'ODIS_PERS_ID')"
   ]
  },
  {
   "cell_type": "code",
   "execution_count": 16,
   "id": "1ee6f534",
   "metadata": {},
   "outputs": [
    {
     "data": {
      "text/html": [
       "<div>\n",
       "<style scoped>\n",
       "    .dataframe tbody tr th:only-of-type {\n",
       "        vertical-align: middle;\n",
       "    }\n",
       "\n",
       "    .dataframe tbody tr th {\n",
       "        vertical-align: top;\n",
       "    }\n",
       "\n",
       "    .dataframe thead th {\n",
       "        text-align: right;\n",
       "    }\n",
       "</style>\n",
       "<table border=\"1\" class=\"dataframe\">\n",
       "  <thead>\n",
       "    <tr style=\"text-align: right;\">\n",
       "      <th></th>\n",
       "      <th>ODIS_PERS_ID</th>\n",
       "      <th>REL_PERS_REF_SURNAME</th>\n",
       "      <th>REL_PERS_REF_FIRST_NAME</th>\n",
       "      <th>Full Name</th>\n",
       "      <th>Birth Year</th>\n",
       "      <th>Birth Country</th>\n",
       "      <th>Birth Place</th>\n",
       "      <th>Death Year</th>\n",
       "      <th>Death Country</th>\n",
       "      <th>Death Place</th>\n",
       "    </tr>\n",
       "  </thead>\n",
       "  <tbody>\n",
       "    <tr>\n",
       "      <th>1746</th>\n",
       "      <td>53546</td>\n",
       "      <td>de Loyola</td>\n",
       "      <td>Ignatius</td>\n",
       "      <td>Ignatius de Loyola</td>\n",
       "      <td>1491.0</td>\n",
       "      <td>NaN</td>\n",
       "      <td>NaN</td>\n",
       "      <td>1556.0</td>\n",
       "      <td>NaN</td>\n",
       "      <td>NaN</td>\n",
       "    </tr>\n",
       "    <tr>\n",
       "      <th>1747</th>\n",
       "      <td>53546</td>\n",
       "      <td>de Loyola</td>\n",
       "      <td>Ignatius</td>\n",
       "      <td>Ignatius de Loyola</td>\n",
       "      <td>1491.0</td>\n",
       "      <td>NaN</td>\n",
       "      <td>NaN</td>\n",
       "      <td>1556.0</td>\n",
       "      <td>NaN</td>\n",
       "      <td>NaN</td>\n",
       "    </tr>\n",
       "    <tr>\n",
       "      <th>1748</th>\n",
       "      <td>53546</td>\n",
       "      <td>de Loyola</td>\n",
       "      <td>Ignatius</td>\n",
       "      <td>Ignatius de Loyola</td>\n",
       "      <td>1491.0</td>\n",
       "      <td>NaN</td>\n",
       "      <td>NaN</td>\n",
       "      <td>1556.0</td>\n",
       "      <td>NaN</td>\n",
       "      <td>NaN</td>\n",
       "    </tr>\n",
       "    <tr>\n",
       "      <th>4330</th>\n",
       "      <td>64493</td>\n",
       "      <td>Acx</td>\n",
       "      <td>Fernandus</td>\n",
       "      <td>Fernandus Acx</td>\n",
       "      <td>1839.0</td>\n",
       "      <td>BE</td>\n",
       "      <td>Pittem</td>\n",
       "      <td>NaN</td>\n",
       "      <td>NaN</td>\n",
       "      <td>NaN</td>\n",
       "    </tr>\n",
       "    <tr>\n",
       "      <th>4331</th>\n",
       "      <td>64493</td>\n",
       "      <td>Acx</td>\n",
       "      <td>Fernandus</td>\n",
       "      <td>Fernandus Acx</td>\n",
       "      <td>1839.0</td>\n",
       "      <td>BE</td>\n",
       "      <td>Pittem</td>\n",
       "      <td>NaN</td>\n",
       "      <td>NaN</td>\n",
       "      <td>NaN</td>\n",
       "    </tr>\n",
       "  </tbody>\n",
       "</table>\n",
       "</div>"
      ],
      "text/plain": [
       "      ODIS_PERS_ID REL_PERS_REF_SURNAME REL_PERS_REF_FIRST_NAME  \\\n",
       "1746         53546            de Loyola                Ignatius   \n",
       "1747         53546            de Loyola                Ignatius   \n",
       "1748         53546            de Loyola                Ignatius   \n",
       "4330         64493                  Acx               Fernandus   \n",
       "4331         64493                  Acx               Fernandus   \n",
       "\n",
       "               Full Name  Birth Year Birth Country Birth Place  Death Year  \\\n",
       "1746  Ignatius de Loyola      1491.0           NaN         NaN      1556.0   \n",
       "1747  Ignatius de Loyola      1491.0           NaN         NaN      1556.0   \n",
       "1748  Ignatius de Loyola      1491.0           NaN         NaN      1556.0   \n",
       "4330       Fernandus Acx      1839.0            BE      Pittem         NaN   \n",
       "4331       Fernandus Acx      1839.0            BE      Pittem         NaN   \n",
       "\n",
       "     Death Country Death Place  \n",
       "1746           NaN         NaN  \n",
       "1747           NaN         NaN  \n",
       "1748           NaN         NaN  \n",
       "4330           NaN         NaN  \n",
       "4331           NaN         NaN  "
      ]
     },
     "execution_count": 16,
     "metadata": {},
     "output_type": "execute_result"
    }
   ],
   "source": [
    "per_row.head()"
   ]
  },
  {
   "cell_type": "code",
   "execution_count": 17,
   "id": "57e6fc29",
   "metadata": {},
   "outputs": [],
   "source": [
    "# change countries abbreviation to full name\n",
    "country_list = [country for country in per_row['Birth Country'] if not str(country) == 'nan']\n",
    "for country in per_row['Death Country']:\n",
    "    if not str(country) == 'nan':\n",
    "        country_list.append(country)\n",
    "country_list = list(set(country_list))\n",
    "country_list.sort()"
   ]
  },
  {
   "cell_type": "code",
   "execution_count": 18,
   "id": "1f44c85b",
   "metadata": {},
   "outputs": [
    {
     "data": {
      "text/plain": [
       "['AT', 'BE', 'CH', 'DE', 'ES', 'FR', 'GB', 'HR', 'IE', 'IT', 'NL', 'PT', 'VA']"
      ]
     },
     "execution_count": 18,
     "metadata": {},
     "output_type": "execute_result"
    }
   ],
   "source": [
    "country_list"
   ]
  },
  {
   "cell_type": "code",
   "execution_count": 19,
   "id": "d8b1dcc0",
   "metadata": {},
   "outputs": [],
   "source": [
    "country_index = {\n",
    "    'AT': 'Austria',\n",
    "    'BE': 'Belgium',\n",
    "    'CH': 'Switzerland',\n",
    "    'DE': 'Germany',\n",
    "    'ES': 'Spain',\n",
    "    'FR': 'France',\n",
    "    'GB': 'Britain',\n",
    "    'HR': 'Croatia',\n",
    "    'IE': 'Ireland',\n",
    "    'IT': 'Italy',\n",
    "    'NL': 'Netherlands',\n",
    "    'PT': 'Portugal',\n",
    "    'VA': 'Vatican'\n",
    "}"
   ]
  },
  {
   "cell_type": "code",
   "execution_count": 20,
   "id": "93e5c9f7",
   "metadata": {},
   "outputs": [],
   "source": [
    "birth_country = []\n",
    "for country in per_row['Birth Country']:\n",
    "    if not str(country) == 'nan':\n",
    "        birth_country.append(country_index[country])\n",
    "    else:\n",
    "        birth_country.append(None)\n",
    "        \n",
    "per_row['Birth Country'] = birth_country"
   ]
  },
  {
   "cell_type": "code",
   "execution_count": 21,
   "id": "defa5ddb",
   "metadata": {},
   "outputs": [],
   "source": [
    "death_country = []\n",
    "for country in per_row['Death Country']:\n",
    "    if not str(country) == 'nan':\n",
    "        death_country.append(country_index[country])\n",
    "    else:\n",
    "        death_country.append(None)\n",
    "\n",
    "per_row['Death Country'] = death_country"
   ]
  },
  {
   "cell_type": "code",
   "execution_count": 22,
   "id": "21803128",
   "metadata": {},
   "outputs": [],
   "source": [
    "per_dist = per_row.drop_duplicates()"
   ]
  },
  {
   "cell_type": "code",
   "execution_count": 23,
   "id": "ec673a30",
   "metadata": {},
   "outputs": [
    {
     "data": {
      "text/plain": [
       "(2081, 10)"
      ]
     },
     "execution_count": 23,
     "metadata": {},
     "output_type": "execute_result"
    }
   ],
   "source": [
    "per_dist.shape"
   ]
  },
  {
   "cell_type": "code",
   "execution_count": 24,
   "id": "cc2db526",
   "metadata": {},
   "outputs": [
    {
     "data": {
      "text/html": [
       "<div>\n",
       "<style scoped>\n",
       "    .dataframe tbody tr th:only-of-type {\n",
       "        vertical-align: middle;\n",
       "    }\n",
       "\n",
       "    .dataframe tbody tr th {\n",
       "        vertical-align: top;\n",
       "    }\n",
       "\n",
       "    .dataframe thead th {\n",
       "        text-align: right;\n",
       "    }\n",
       "</style>\n",
       "<table border=\"1\" class=\"dataframe\">\n",
       "  <thead>\n",
       "    <tr style=\"text-align: right;\">\n",
       "      <th></th>\n",
       "      <th>ODIS_PERS_ID</th>\n",
       "      <th>REL_PERS_REF_SURNAME</th>\n",
       "      <th>REL_PERS_REF_FIRST_NAME</th>\n",
       "      <th>Full Name</th>\n",
       "      <th>Birth Year</th>\n",
       "      <th>Birth Country</th>\n",
       "      <th>Birth Place</th>\n",
       "      <th>Death Year</th>\n",
       "      <th>Death Country</th>\n",
       "      <th>Death Place</th>\n",
       "    </tr>\n",
       "  </thead>\n",
       "  <tbody>\n",
       "    <tr>\n",
       "      <th>1746</th>\n",
       "      <td>53546</td>\n",
       "      <td>de Loyola</td>\n",
       "      <td>Ignatius</td>\n",
       "      <td>Ignatius de Loyola</td>\n",
       "      <td>1491.0</td>\n",
       "      <td>None</td>\n",
       "      <td>NaN</td>\n",
       "      <td>1556.0</td>\n",
       "      <td>None</td>\n",
       "      <td>NaN</td>\n",
       "    </tr>\n",
       "    <tr>\n",
       "      <th>4330</th>\n",
       "      <td>64493</td>\n",
       "      <td>Acx</td>\n",
       "      <td>Fernandus</td>\n",
       "      <td>Fernandus Acx</td>\n",
       "      <td>1839.0</td>\n",
       "      <td>Belgium</td>\n",
       "      <td>Pittem</td>\n",
       "      <td>NaN</td>\n",
       "      <td>None</td>\n",
       "      <td>NaN</td>\n",
       "    </tr>\n",
       "    <tr>\n",
       "      <th>1341</th>\n",
       "      <td>77188</td>\n",
       "      <td>Perrenot de Granvelle</td>\n",
       "      <td>Antonius</td>\n",
       "      <td>Antonius Perrenot de Granvelle</td>\n",
       "      <td>1517.0</td>\n",
       "      <td>France</td>\n",
       "      <td>France</td>\n",
       "      <td>1586.0</td>\n",
       "      <td>Spain</td>\n",
       "      <td>Madrid</td>\n",
       "    </tr>\n",
       "    <tr>\n",
       "      <th>6673</th>\n",
       "      <td>77190</td>\n",
       "      <td>Boonen</td>\n",
       "      <td>Jacobus</td>\n",
       "      <td>Jacobus Boonen</td>\n",
       "      <td>1573.0</td>\n",
       "      <td>Belgium</td>\n",
       "      <td>Antwerpen</td>\n",
       "      <td>1655.0</td>\n",
       "      <td>Belgium</td>\n",
       "      <td>Brussel</td>\n",
       "    </tr>\n",
       "    <tr>\n",
       "      <th>6274</th>\n",
       "      <td>94638</td>\n",
       "      <td>Malderus</td>\n",
       "      <td>Joannes</td>\n",
       "      <td>Joannes Malderus</td>\n",
       "      <td>1563.0</td>\n",
       "      <td>Belgium</td>\n",
       "      <td>Sint-Pieters-Leeuw</td>\n",
       "      <td>1633.0</td>\n",
       "      <td>Belgium</td>\n",
       "      <td>Antwerpen</td>\n",
       "    </tr>\n",
       "  </tbody>\n",
       "</table>\n",
       "</div>"
      ],
      "text/plain": [
       "      ODIS_PERS_ID   REL_PERS_REF_SURNAME REL_PERS_REF_FIRST_NAME  \\\n",
       "1746         53546              de Loyola                Ignatius   \n",
       "4330         64493                    Acx               Fernandus   \n",
       "1341         77188  Perrenot de Granvelle                Antonius   \n",
       "6673         77190                 Boonen                 Jacobus   \n",
       "6274         94638               Malderus                 Joannes   \n",
       "\n",
       "                           Full Name  Birth Year Birth Country  \\\n",
       "1746              Ignatius de Loyola      1491.0          None   \n",
       "4330                   Fernandus Acx      1839.0       Belgium   \n",
       "1341  Antonius Perrenot de Granvelle      1517.0        France   \n",
       "6673                  Jacobus Boonen      1573.0       Belgium   \n",
       "6274                Joannes Malderus      1563.0       Belgium   \n",
       "\n",
       "             Birth Place  Death Year Death Country Death Place  \n",
       "1746                 NaN      1556.0          None         NaN  \n",
       "4330              Pittem         NaN          None         NaN  \n",
       "1341              France      1586.0         Spain      Madrid  \n",
       "6673           Antwerpen      1655.0       Belgium     Brussel  \n",
       "6274  Sint-Pieters-Leeuw      1633.0       Belgium   Antwerpen  "
      ]
     },
     "execution_count": 24,
     "metadata": {},
     "output_type": "execute_result"
    }
   ],
   "source": [
    "per_dist.head()"
   ]
  },
  {
   "cell_type": "code",
   "execution_count": 25,
   "id": "0058b03b",
   "metadata": {},
   "outputs": [
    {
     "data": {
      "text/plain": [
       "True"
      ]
     },
     "execution_count": 25,
     "metadata": {},
     "output_type": "execute_result"
    }
   ],
   "source": [
    "# checking if there are still duplicates\n",
    "per_id = list(set([ID for ID in per_dist['ODIS_PERS_ID']]))\n",
    "len(per_id) == len([ID for ID in per_dist['ODIS_PERS_ID']])"
   ]
  },
  {
   "cell_type": "markdown",
   "id": "ada3f16f",
   "metadata": {},
   "source": [
    "Descriptive Statistics"
   ]
  },
  {
   "cell_type": "code",
   "execution_count": 27,
   "id": "22b2311b",
   "metadata": {},
   "outputs": [],
   "source": [
    "meta = pd.read_csv('data/pub_filter.csv')"
   ]
  },
  {
   "cell_type": "code",
   "execution_count": 28,
   "id": "4b6c3a65",
   "metadata": {},
   "outputs": [],
   "source": [
    "pub = pd.read_csv('data/dist_pub.csv')"
   ]
  },
  {
   "cell_type": "code",
   "execution_count": 29,
   "id": "2b0b500d",
   "metadata": {},
   "outputs": [],
   "source": [
    "per = pd.read_csv('data/dist_per.csv')"
   ]
  },
  {
   "cell_type": "code",
   "execution_count": 30,
   "id": "f00af76c",
   "metadata": {},
   "outputs": [],
   "source": [
    "rel = pd.read_csv('data/pub_relation.csv')"
   ]
  },
  {
   "cell_type": "code",
   "execution_count": 31,
   "id": "99497844",
   "metadata": {},
   "outputs": [
    {
     "data": {
      "text/plain": [
       "8360"
      ]
     },
     "execution_count": 31,
     "metadata": {},
     "output_type": "execute_result"
    }
   ],
   "source": [
    "# count of the whole dataset\n",
    "len(meta)"
   ]
  },
  {
   "cell_type": "code",
   "execution_count": 32,
   "id": "788a832f",
   "metadata": {},
   "outputs": [
    {
     "data": {
      "text/plain": [
       "(2.83, 8300, 2936)"
      ]
     },
     "execution_count": 32,
     "metadata": {},
     "output_type": "execute_result"
    }
   ],
   "source": [
    "# count average number of person involved in each publication.\n",
    "pub_dict = {}\n",
    "for i in range(0, len(rel)):\n",
    "    if not rel['ODIS_ID'][i] in pub_dict:\n",
    "        pub_dict[rel['ODIS_ID'][i]] = [rel['ODIS_PERS_ID'][i]]\n",
    "    else:\n",
    "        pub_dict[rel['ODIS_ID'][i]].append(rel['ODIS_PERS_ID'][i])\n",
    "\n",
    "pub_avg = []\n",
    "for ID in pub_dict:\n",
    "    pub_dict[ID] = list(set(pub_dict[ID]))\n",
    "    pub_avg.append(len(pub_dict[ID]))\n",
    "\n",
    "round(sum(pub_avg) / len(pub_avg), 2), sum(pub_avg), len(pub_avg)"
   ]
  },
  {
   "cell_type": "code",
   "execution_count": 33,
   "id": "ee599dda",
   "metadata": {},
   "outputs": [
    {
     "data": {
      "text/plain": [
       "(3.99, 8300, 2081)"
      ]
     },
     "execution_count": 33,
     "metadata": {},
     "output_type": "execute_result"
    }
   ],
   "source": [
    "# count average number of publications each person involved.\n",
    "per_dict = {}\n",
    "for i in range(0, len(rel)):\n",
    "    if not rel['ODIS_PERS_ID'][i] in per_dict:\n",
    "        per_dict[rel['ODIS_PERS_ID'][i]] = [rel['ODIS_ID'][i]]\n",
    "    else:\n",
    "        per_dict[rel['ODIS_PERS_ID'][i]].append(rel['ODIS_ID'][i])\n",
    "\n",
    "per_avg = []\n",
    "for ID in per_dict:\n",
    "    per_dict[ID] = list(set(per_dict[ID]))\n",
    "    per_avg.append(len(per_dict[ID]))\n",
    "\n",
    "round(sum(per_avg) / len(per_avg), 2), sum(per_avg), len(per_avg)"
   ]
  },
  {
   "cell_type": "markdown",
   "id": "fb2ae88b",
   "metadata": {},
   "source": [
    "Publication"
   ]
  },
  {
   "cell_type": "code",
   "execution_count": 34,
   "id": "1fc92158",
   "metadata": {},
   "outputs": [
    {
     "data": {
      "text/plain": [
       "2936"
      ]
     },
     "execution_count": 34,
     "metadata": {},
     "output_type": "execute_result"
    }
   ],
   "source": [
    "# count of distinct publication\n",
    "len(pub)"
   ]
  },
  {
   "cell_type": "code",
   "execution_count": 35,
   "id": "161cce11",
   "metadata": {},
   "outputs": [
    {
     "data": {
      "image/png": "[encoded data removed]",
      "text/plain": [
       "<Figure size 1152x576 with 1 Axes>"
      ]
     },
     "metadata": {
      "needs_background": "light"
     },
     "output_type": "display_data"
    }
   ],
   "source": [
    "# distribution of publication year\n",
    "overalltrend = pub['Publication Year'].plot.hist(bins = 100, figsize = (16, 8))\n",
    "overalltrend.tick_params(axis='x', labelsize = 16)\n",
    "overalltrend.tick_params(axis='y', labelsize = 16)"
   ]
  },
  {
   "cell_type": "code",
   "execution_count": 36,
   "id": "a46a9b46",
   "metadata": {},
   "outputs": [
    {
     "name": "stdout",
     "output_type": "stream",
     "text": [
      "1573\n"
     ]
    }
   ],
   "source": [
    "# no publication in this year\n",
    "for i in range(1559, 1660):\n",
    "    if i not in [year for year in pub['Publication Year']]:\n",
    "        print(i)"
   ]
  },
  {
   "cell_type": "code",
   "execution_count": 37,
   "id": "1c5cd8fa",
   "metadata": {},
   "outputs": [
    {
     "data": {
      "image/png": "[encoded data removed]",
      "text/plain": [
       "<Figure size 1152x576 with 1 Axes>"
      ]
     },
     "metadata": {
      "needs_background": "light"
     },
     "output_type": "display_data"
    }
   ],
   "source": [
    "# bar chart group by period\n",
    "pub_period_plot = pub['Publication Period'].value_counts().sort_index(ascending = False).plot.barh(figsize = (16, 8))\n",
    "pub_period_plot.tick_params(axis='x', labelsize = 16)\n",
    "pub_period_plot.tick_params(axis='y', labelsize = 16)\n",
    "\n",
    "for container in pub_period_plot.containers:\n",
    "    pub_period_plot.bar_label(container)"
   ]
  },
  {
   "cell_type": "code",
   "execution_count": 38,
   "id": "c718e8b0",
   "metadata": {},
   "outputs": [
    {
     "data": {
      "text/html": [
       "<div>\n",
       "<style scoped>\n",
       "    .dataframe tbody tr th:only-of-type {\n",
       "        vertical-align: middle;\n",
       "    }\n",
       "\n",
       "    .dataframe tbody tr th {\n",
       "        vertical-align: top;\n",
       "    }\n",
       "\n",
       "    .dataframe thead th {\n",
       "        text-align: right;\n",
       "    }\n",
       "</style>\n",
       "<table border=\"1\" class=\"dataframe\">\n",
       "  <thead>\n",
       "    <tr style=\"text-align: right;\">\n",
       "      <th></th>\n",
       "      <th>Period</th>\n",
       "      <th>Count</th>\n",
       "      <th>%</th>\n",
       "    </tr>\n",
       "  </thead>\n",
       "  <tbody>\n",
       "    <tr>\n",
       "      <th>0</th>\n",
       "      <td>1550s</td>\n",
       "      <td>15</td>\n",
       "      <td>0.51</td>\n",
       "    </tr>\n",
       "    <tr>\n",
       "      <th>1</th>\n",
       "      <td>1560s</td>\n",
       "      <td>106</td>\n",
       "      <td>3.61</td>\n",
       "    </tr>\n",
       "    <tr>\n",
       "      <th>2</th>\n",
       "      <td>1570s</td>\n",
       "      <td>70</td>\n",
       "      <td>2.38</td>\n",
       "    </tr>\n",
       "    <tr>\n",
       "      <th>3</th>\n",
       "      <td>1580s</td>\n",
       "      <td>75</td>\n",
       "      <td>2.55</td>\n",
       "    </tr>\n",
       "    <tr>\n",
       "      <th>4</th>\n",
       "      <td>1590s</td>\n",
       "      <td>154</td>\n",
       "      <td>5.25</td>\n",
       "    </tr>\n",
       "    <tr>\n",
       "      <th>5</th>\n",
       "      <td>1600s</td>\n",
       "      <td>417</td>\n",
       "      <td>14.20</td>\n",
       "    </tr>\n",
       "    <tr>\n",
       "      <th>6</th>\n",
       "      <td>1610s</td>\n",
       "      <td>607</td>\n",
       "      <td>20.67</td>\n",
       "    </tr>\n",
       "    <tr>\n",
       "      <th>7</th>\n",
       "      <td>1620s</td>\n",
       "      <td>785</td>\n",
       "      <td>26.74</td>\n",
       "    </tr>\n",
       "    <tr>\n",
       "      <th>8</th>\n",
       "      <td>1630s</td>\n",
       "      <td>414</td>\n",
       "      <td>14.10</td>\n",
       "    </tr>\n",
       "    <tr>\n",
       "      <th>9</th>\n",
       "      <td>1640s</td>\n",
       "      <td>175</td>\n",
       "      <td>5.96</td>\n",
       "    </tr>\n",
       "    <tr>\n",
       "      <th>10</th>\n",
       "      <td>1650s</td>\n",
       "      <td>118</td>\n",
       "      <td>4.02</td>\n",
       "    </tr>\n",
       "  </tbody>\n",
       "</table>\n",
       "</div>"
      ],
      "text/plain": [
       "   Period  Count      %\n",
       "0   1550s     15   0.51\n",
       "1   1560s    106   3.61\n",
       "2   1570s     70   2.38\n",
       "3   1580s     75   2.55\n",
       "4   1590s    154   5.25\n",
       "5   1600s    417  14.20\n",
       "6   1610s    607  20.67\n",
       "7   1620s    785  26.74\n",
       "8   1630s    414  14.10\n",
       "9   1640s    175   5.96\n",
       "10  1650s    118   4.02"
      ]
     },
     "execution_count": 38,
     "metadata": {},
     "output_type": "execute_result"
    }
   ],
   "source": [
    "# count and % table\n",
    "pub_table = pd.DataFrame()\n",
    "period_name = list(set([period for period in pub['Publication Period']]))\n",
    "period_name.sort()\n",
    "pub_table['Period'] = period_name\n",
    "\n",
    "pub_count = [count for count in pub['Publication Period'].value_counts().sort_index(ascending = True)]\n",
    "pub_table['Count'] = pub_count\n",
    "\n",
    "pub_pro = [round((count / len(pub)) * 100, 2) for count in pub_count]\n",
    "pub_table['%'] = pub_pro\n",
    "\n",
    "pub_table"
   ]
  },
  {
   "cell_type": "markdown",
   "id": "fef23311",
   "metadata": {},
   "source": [
    "Person"
   ]
  },
  {
   "cell_type": "code",
   "execution_count": 39,
   "id": "1e4ddb88",
   "metadata": {},
   "outputs": [
    {
     "data": {
      "text/plain": [
       "2081"
      ]
     },
     "execution_count": 39,
     "metadata": {},
     "output_type": "execute_result"
    }
   ],
   "source": [
    "# count of distinct person\n",
    "len(per)"
   ]
  },
  {
   "cell_type": "code",
   "execution_count": 40,
   "id": "90825ab3",
   "metadata": {},
   "outputs": [
    {
     "data": {
      "text/plain": [
       "15"
      ]
     },
     "execution_count": 40,
     "metadata": {},
     "output_type": "execute_result"
    }
   ],
   "source": [
    "# count of distinct countries they were from or to\n",
    "countries = list(set([country for country in per['Birth Country'] if not str(country) == 'nan']))\n",
    "for country in per['Death Country']:\n",
    "    if not str(country) == 'nan':\n",
    "        if not country in countries:\n",
    "            countries.append(country)\n",
    "countries.sort()\n",
    "len(countries)"
   ]
  },
  {
   "cell_type": "code",
   "execution_count": 41,
   "id": "b1788d64",
   "metadata": {},
   "outputs": [
    {
     "data": {
      "text/plain": [
       "['Austria',\n",
       " 'Belgium',\n",
       " 'Britain',\n",
       " 'China',\n",
       " 'Croatia',\n",
       " 'France',\n",
       " 'Germany',\n",
       " 'Ireland',\n",
       " 'Italy',\n",
       " 'Netherlands',\n",
       " 'Peru',\n",
       " 'Portugal',\n",
       " 'Spain',\n",
       " 'Switzerland',\n",
       " 'Vatican']"
      ]
     },
     "execution_count": 41,
     "metadata": {},
     "output_type": "execute_result"
    }
   ],
   "source": [
    "countries"
   ]
  },
  {
   "cell_type": "code",
   "execution_count": 42,
   "id": "5584075c",
   "metadata": {},
   "outputs": [
    {
     "data": {
      "text/plain": [
       "(403, 0.19365689572321)"
      ]
     },
     "execution_count": 42,
     "metadata": {},
     "output_type": "execute_result"
    }
   ],
   "source": [
    "# total count of birth country (not distinct)\n",
    "sum(per['Birth Country'].value_counts()), sum(per['Birth Country'].value_counts())/len(per)"
   ]
  },
  {
   "cell_type": "code",
   "execution_count": 43,
   "id": "a6889825",
   "metadata": {},
   "outputs": [
    {
     "data": {
      "image/png": "[encoded data removed]",
      "text/plain": [
       "<Figure size 1152x576 with 1 Axes>"
      ]
     },
     "metadata": {
      "needs_background": "light"
     },
     "output_type": "display_data"
    }
   ],
   "source": [
    "# count of birth country\n",
    "birth_country_plot = per['Birth Country'].value_counts().sort_values().plot.barh(figsize = (16, 8))\n",
    "\n",
    "for container in birth_country_plot.containers:\n",
    "    birth_country_plot.bar_label(container)"
   ]
  },
  {
   "cell_type": "code",
   "execution_count": 44,
   "id": "809890c1",
   "metadata": {},
   "outputs": [
    {
     "data": {
      "text/html": [
       "<div>\n",
       "<style scoped>\n",
       "    .dataframe tbody tr th:only-of-type {\n",
       "        vertical-align: middle;\n",
       "    }\n",
       "\n",
       "    .dataframe tbody tr th {\n",
       "        vertical-align: top;\n",
       "    }\n",
       "\n",
       "    .dataframe thead th {\n",
       "        text-align: right;\n",
       "    }\n",
       "</style>\n",
       "<table border=\"1\" class=\"dataframe\">\n",
       "  <thead>\n",
       "    <tr style=\"text-align: right;\">\n",
       "      <th></th>\n",
       "      <th>Country</th>\n",
       "      <th>Count</th>\n",
       "      <th>%</th>\n",
       "    </tr>\n",
       "  </thead>\n",
       "  <tbody>\n",
       "    <tr>\n",
       "      <th>4</th>\n",
       "      <td>France</td>\n",
       "      <td>136</td>\n",
       "      <td>33.75</td>\n",
       "    </tr>\n",
       "    <tr>\n",
       "      <th>1</th>\n",
       "      <td>Belgium</td>\n",
       "      <td>99</td>\n",
       "      <td>24.57</td>\n",
       "    </tr>\n",
       "    <tr>\n",
       "      <th>2</th>\n",
       "      <td>Britain</td>\n",
       "      <td>55</td>\n",
       "      <td>13.65</td>\n",
       "    </tr>\n",
       "    <tr>\n",
       "      <th>7</th>\n",
       "      <td>Italy</td>\n",
       "      <td>37</td>\n",
       "      <td>9.18</td>\n",
       "    </tr>\n",
       "    <tr>\n",
       "      <th>10</th>\n",
       "      <td>Spain</td>\n",
       "      <td>29</td>\n",
       "      <td>7.20</td>\n",
       "    </tr>\n",
       "    <tr>\n",
       "      <th>8</th>\n",
       "      <td>Netherlands</td>\n",
       "      <td>24</td>\n",
       "      <td>5.96</td>\n",
       "    </tr>\n",
       "    <tr>\n",
       "      <th>5</th>\n",
       "      <td>Germany</td>\n",
       "      <td>12</td>\n",
       "      <td>2.98</td>\n",
       "    </tr>\n",
       "    <tr>\n",
       "      <th>6</th>\n",
       "      <td>Ireland</td>\n",
       "      <td>5</td>\n",
       "      <td>1.24</td>\n",
       "    </tr>\n",
       "    <tr>\n",
       "      <th>0</th>\n",
       "      <td>Austria</td>\n",
       "      <td>2</td>\n",
       "      <td>0.50</td>\n",
       "    </tr>\n",
       "    <tr>\n",
       "      <th>9</th>\n",
       "      <td>Portugal</td>\n",
       "      <td>2</td>\n",
       "      <td>0.50</td>\n",
       "    </tr>\n",
       "    <tr>\n",
       "      <th>3</th>\n",
       "      <td>Croatia</td>\n",
       "      <td>1</td>\n",
       "      <td>0.25</td>\n",
       "    </tr>\n",
       "    <tr>\n",
       "      <th>11</th>\n",
       "      <td>Switzerland</td>\n",
       "      <td>1</td>\n",
       "      <td>0.25</td>\n",
       "    </tr>\n",
       "  </tbody>\n",
       "</table>\n",
       "</div>"
      ],
      "text/plain": [
       "        Country  Count      %\n",
       "4        France    136  33.75\n",
       "1       Belgium     99  24.57\n",
       "2       Britain     55  13.65\n",
       "7         Italy     37   9.18\n",
       "10        Spain     29   7.20\n",
       "8   Netherlands     24   5.96\n",
       "5       Germany     12   2.98\n",
       "6       Ireland      5   1.24\n",
       "0       Austria      2   0.50\n",
       "9      Portugal      2   0.50\n",
       "3       Croatia      1   0.25\n",
       "11  Switzerland      1   0.25"
      ]
     },
     "execution_count": 44,
     "metadata": {},
     "output_type": "execute_result"
    }
   ],
   "source": [
    "# count and % table of birth country\n",
    "birth_country_table = pd.DataFrame()\n",
    "country_name = list(set([country for country in per['Birth Country'] if not str(country) == 'nan']))\n",
    "country_name.sort()\n",
    "birth_country_table['Country'] = country_name\n",
    "\n",
    "birth_country_count = [count for count in per['Birth Country'].value_counts().sort_index(ascending = True)]\n",
    "birth_country_table['Count'] = birth_country_count\n",
    "\n",
    "birth_country_pro = [round((count / sum(per['Birth Country'].value_counts())) * 100, 2) for count in birth_country_count]\n",
    "birth_country_table['%'] = birth_country_pro\n",
    "\n",
    "birth_country_table.sort_values(by = 'Count', ascending = False)"
   ]
  },
  {
   "cell_type": "code",
   "execution_count": 45,
   "id": "677ed169",
   "metadata": {},
   "outputs": [
    {
     "data": {
      "text/plain": [
       "260"
      ]
     },
     "execution_count": 45,
     "metadata": {},
     "output_type": "execute_result"
    }
   ],
   "source": [
    "# count of distinct birth place\n",
    "len(list(set(per['Birth Place'])))"
   ]
  },
  {
   "cell_type": "code",
   "execution_count": 46,
   "id": "2efcc630",
   "metadata": {},
   "outputs": [
    {
     "data": {
      "image/png": "[encoded data removed]",
      "text/plain": [
       "<Figure size 1152x576 with 1 Axes>"
      ]
     },
     "metadata": {
      "needs_background": "light"
     },
     "output_type": "display_data"
    }
   ],
   "source": [
    "# count of birth place\n",
    "birth_place = per['Birth Place'].value_counts().sort_values(ascending = False).head(10)\n",
    "birth_place_plot = birth_place.sort_values().plot.barh(figsize = (16, 8))\n",
    "\n",
    "for container in birth_place_plot.containers:\n",
    "    birth_place_plot.bar_label(container)"
   ]
  },
  {
   "cell_type": "code",
   "execution_count": 47,
   "id": "5e4d1c97",
   "metadata": {},
   "outputs": [
    {
     "data": {
      "text/plain": [
       "(393, 0.18885151369533879)"
      ]
     },
     "execution_count": 47,
     "metadata": {},
     "output_type": "execute_result"
    }
   ],
   "source": [
    "# total count of death country (not distinct)\n",
    "sum(per['Death Country'].value_counts()), sum(per['Death Country'].value_counts())/len(per)"
   ]
  },
  {
   "cell_type": "code",
   "execution_count": 48,
   "id": "71dd4375",
   "metadata": {},
   "outputs": [
    {
     "data": {
      "image/png": "[encoded data removed]",
      "text/plain": [
       "<Figure size 1152x576 with 1 Axes>"
      ]
     },
     "metadata": {
      "needs_background": "light"
     },
     "output_type": "display_data"
    }
   ],
   "source": [
    "# count of death country\n",
    "death_country_plot = per['Death Country'].value_counts().sort_values().plot.barh(figsize = (16, 8))\n",
    "\n",
    "for container in death_country_plot.containers:\n",
    "    death_country_plot.bar_label(container)"
   ]
  },
  {
   "cell_type": "code",
   "execution_count": 49,
   "id": "2be27725",
   "metadata": {},
   "outputs": [
    {
     "data": {
      "text/html": [
       "<div>\n",
       "<style scoped>\n",
       "    .dataframe tbody tr th:only-of-type {\n",
       "        vertical-align: middle;\n",
       "    }\n",
       "\n",
       "    .dataframe tbody tr th {\n",
       "        vertical-align: top;\n",
       "    }\n",
       "\n",
       "    .dataframe thead th {\n",
       "        text-align: right;\n",
       "    }\n",
       "</style>\n",
       "<table border=\"1\" class=\"dataframe\">\n",
       "  <thead>\n",
       "    <tr style=\"text-align: right;\">\n",
       "      <th></th>\n",
       "      <th>Country</th>\n",
       "      <th>Count</th>\n",
       "      <th>%</th>\n",
       "    </tr>\n",
       "  </thead>\n",
       "  <tbody>\n",
       "    <tr>\n",
       "      <th>5</th>\n",
       "      <td>France</td>\n",
       "      <td>173</td>\n",
       "      <td>44.02</td>\n",
       "    </tr>\n",
       "    <tr>\n",
       "      <th>1</th>\n",
       "      <td>Belgium</td>\n",
       "      <td>89</td>\n",
       "      <td>22.65</td>\n",
       "    </tr>\n",
       "    <tr>\n",
       "      <th>8</th>\n",
       "      <td>Italy</td>\n",
       "      <td>51</td>\n",
       "      <td>12.98</td>\n",
       "    </tr>\n",
       "    <tr>\n",
       "      <th>2</th>\n",
       "      <td>Britain</td>\n",
       "      <td>22</td>\n",
       "      <td>5.60</td>\n",
       "    </tr>\n",
       "    <tr>\n",
       "      <th>6</th>\n",
       "      <td>Germany</td>\n",
       "      <td>20</td>\n",
       "      <td>5.09</td>\n",
       "    </tr>\n",
       "    <tr>\n",
       "      <th>12</th>\n",
       "      <td>Spain</td>\n",
       "      <td>19</td>\n",
       "      <td>4.83</td>\n",
       "    </tr>\n",
       "    <tr>\n",
       "      <th>0</th>\n",
       "      <td>Austria</td>\n",
       "      <td>6</td>\n",
       "      <td>1.53</td>\n",
       "    </tr>\n",
       "    <tr>\n",
       "      <th>9</th>\n",
       "      <td>Netherlands</td>\n",
       "      <td>5</td>\n",
       "      <td>1.27</td>\n",
       "    </tr>\n",
       "    <tr>\n",
       "      <th>11</th>\n",
       "      <td>Portugal</td>\n",
       "      <td>2</td>\n",
       "      <td>0.51</td>\n",
       "    </tr>\n",
       "    <tr>\n",
       "      <th>3</th>\n",
       "      <td>China</td>\n",
       "      <td>1</td>\n",
       "      <td>0.25</td>\n",
       "    </tr>\n",
       "    <tr>\n",
       "      <th>4</th>\n",
       "      <td>Croatia</td>\n",
       "      <td>1</td>\n",
       "      <td>0.25</td>\n",
       "    </tr>\n",
       "    <tr>\n",
       "      <th>7</th>\n",
       "      <td>Ireland</td>\n",
       "      <td>1</td>\n",
       "      <td>0.25</td>\n",
       "    </tr>\n",
       "    <tr>\n",
       "      <th>10</th>\n",
       "      <td>Peru</td>\n",
       "      <td>1</td>\n",
       "      <td>0.25</td>\n",
       "    </tr>\n",
       "    <tr>\n",
       "      <th>13</th>\n",
       "      <td>Switzerland</td>\n",
       "      <td>1</td>\n",
       "      <td>0.25</td>\n",
       "    </tr>\n",
       "    <tr>\n",
       "      <th>14</th>\n",
       "      <td>Vatican</td>\n",
       "      <td>1</td>\n",
       "      <td>0.25</td>\n",
       "    </tr>\n",
       "  </tbody>\n",
       "</table>\n",
       "</div>"
      ],
      "text/plain": [
       "        Country  Count      %\n",
       "5        France    173  44.02\n",
       "1       Belgium     89  22.65\n",
       "8         Italy     51  12.98\n",
       "2       Britain     22   5.60\n",
       "6       Germany     20   5.09\n",
       "12        Spain     19   4.83\n",
       "0       Austria      6   1.53\n",
       "9   Netherlands      5   1.27\n",
       "11     Portugal      2   0.51\n",
       "3         China      1   0.25\n",
       "4       Croatia      1   0.25\n",
       "7       Ireland      1   0.25\n",
       "10         Peru      1   0.25\n",
       "13  Switzerland      1   0.25\n",
       "14      Vatican      1   0.25"
      ]
     },
     "execution_count": 49,
     "metadata": {},
     "output_type": "execute_result"
    }
   ],
   "source": [
    "# count and % table of death country\n",
    "death_country_table = pd.DataFrame()\n",
    "country_name = list(set([country for country in per['Death Country'] if not str(country) == 'nan']))\n",
    "country_name.sort()\n",
    "death_country_table['Country'] = country_name\n",
    "\n",
    "death_country_count = [count for count in per['Death Country'].value_counts().sort_index(ascending = True)]\n",
    "death_country_table['Count'] = death_country_count\n",
    "\n",
    "death_country_pro = [round((count / sum(per['Death Country'].value_counts())) * 100, 2) for count in death_country_count]\n",
    "death_country_table['%'] = death_country_pro\n",
    "\n",
    "death_country_table.sort_values(by = 'Count', ascending = False)"
   ]
  },
  {
   "cell_type": "code",
   "execution_count": 50,
   "id": "0d85c56c",
   "metadata": {},
   "outputs": [],
   "source": [
    "country_graph = pd.merge(birth_country_table, death_country_table, on = 'Country', how = 'right')\n",
    "country_graph = country_graph.rename(columns = {'Count_x': 'Birth Count', 'Count_y': 'Death Count'})\n",
    "country_graph = country_graph[['Country', 'Birth Count', 'Death Count']]\n",
    "country_graph = country_graph.set_index('Country').sort_values('Birth Count', ascending = False)\n",
    "# country_graph = country_graph.head(10)\n",
    "country_graph = country_graph.fillna(0)"
   ]
  },
  {
   "cell_type": "code",
   "execution_count": 51,
   "id": "e4f3282e",
   "metadata": {},
   "outputs": [
    {
     "data": {
      "text/html": [
       "<div>\n",
       "<style scoped>\n",
       "    .dataframe tbody tr th:only-of-type {\n",
       "        vertical-align: middle;\n",
       "    }\n",
       "\n",
       "    .dataframe tbody tr th {\n",
       "        vertical-align: top;\n",
       "    }\n",
       "\n",
       "    .dataframe thead th {\n",
       "        text-align: right;\n",
       "    }\n",
       "</style>\n",
       "<table border=\"1\" class=\"dataframe\">\n",
       "  <thead>\n",
       "    <tr style=\"text-align: right;\">\n",
       "      <th></th>\n",
       "      <th>Birth Count</th>\n",
       "      <th>Death Count</th>\n",
       "    </tr>\n",
       "    <tr>\n",
       "      <th>Country</th>\n",
       "      <th></th>\n",
       "      <th></th>\n",
       "    </tr>\n",
       "  </thead>\n",
       "  <tbody>\n",
       "    <tr>\n",
       "      <th>France</th>\n",
       "      <td>136.0</td>\n",
       "      <td>173</td>\n",
       "    </tr>\n",
       "    <tr>\n",
       "      <th>Belgium</th>\n",
       "      <td>99.0</td>\n",
       "      <td>89</td>\n",
       "    </tr>\n",
       "    <tr>\n",
       "      <th>Britain</th>\n",
       "      <td>55.0</td>\n",
       "      <td>22</td>\n",
       "    </tr>\n",
       "    <tr>\n",
       "      <th>Italy</th>\n",
       "      <td>37.0</td>\n",
       "      <td>51</td>\n",
       "    </tr>\n",
       "    <tr>\n",
       "      <th>Spain</th>\n",
       "      <td>29.0</td>\n",
       "      <td>19</td>\n",
       "    </tr>\n",
       "    <tr>\n",
       "      <th>Netherlands</th>\n",
       "      <td>24.0</td>\n",
       "      <td>5</td>\n",
       "    </tr>\n",
       "    <tr>\n",
       "      <th>Germany</th>\n",
       "      <td>12.0</td>\n",
       "      <td>20</td>\n",
       "    </tr>\n",
       "    <tr>\n",
       "      <th>Ireland</th>\n",
       "      <td>5.0</td>\n",
       "      <td>1</td>\n",
       "    </tr>\n",
       "    <tr>\n",
       "      <th>Austria</th>\n",
       "      <td>2.0</td>\n",
       "      <td>6</td>\n",
       "    </tr>\n",
       "    <tr>\n",
       "      <th>Portugal</th>\n",
       "      <td>2.0</td>\n",
       "      <td>2</td>\n",
       "    </tr>\n",
       "    <tr>\n",
       "      <th>Croatia</th>\n",
       "      <td>1.0</td>\n",
       "      <td>1</td>\n",
       "    </tr>\n",
       "    <tr>\n",
       "      <th>Switzerland</th>\n",
       "      <td>1.0</td>\n",
       "      <td>1</td>\n",
       "    </tr>\n",
       "    <tr>\n",
       "      <th>China</th>\n",
       "      <td>0.0</td>\n",
       "      <td>1</td>\n",
       "    </tr>\n",
       "    <tr>\n",
       "      <th>Peru</th>\n",
       "      <td>0.0</td>\n",
       "      <td>1</td>\n",
       "    </tr>\n",
       "    <tr>\n",
       "      <th>Vatican</th>\n",
       "      <td>0.0</td>\n",
       "      <td>1</td>\n",
       "    </tr>\n",
       "  </tbody>\n",
       "</table>\n",
       "</div>"
      ],
      "text/plain": [
       "             Birth Count  Death Count\n",
       "Country                              \n",
       "France             136.0          173\n",
       "Belgium             99.0           89\n",
       "Britain             55.0           22\n",
       "Italy               37.0           51\n",
       "Spain               29.0           19\n",
       "Netherlands         24.0            5\n",
       "Germany             12.0           20\n",
       "Ireland              5.0            1\n",
       "Austria              2.0            6\n",
       "Portugal             2.0            2\n",
       "Croatia              1.0            1\n",
       "Switzerland          1.0            1\n",
       "China                0.0            1\n",
       "Peru                 0.0            1\n",
       "Vatican              0.0            1"
      ]
     },
     "execution_count": 51,
     "metadata": {},
     "output_type": "execute_result"
    }
   ],
   "source": [
    "country_graph"
   ]
  },
  {
   "cell_type": "code",
   "execution_count": 52,
   "id": "9ab0bbbd",
   "metadata": {},
   "outputs": [
    {
     "data": {
      "image/png": "[encoded data removed]",
      "text/plain": [
       "<Figure size 1152x576 with 1 Axes>"
      ]
     },
     "metadata": {
      "needs_background": "light"
     },
     "output_type": "display_data"
    }
   ],
   "source": [
    "country_graph_plot = country_graph.plot.bar(figsize = (16, 8))\n",
    "country_graph_plot.tick_params(axis='x', labelsize = 16)\n",
    "country_graph_plot.tick_params(axis='y', labelsize = 16)\n",
    "country_graph_plot.legend(fontsize = 16)\n",
    "\n",
    "for container in country_graph_plot.containers:\n",
    "    country_graph_plot.bar_label(container)"
   ]
  },
  {
   "cell_type": "code",
   "execution_count": 53,
   "id": "976d904c",
   "metadata": {},
   "outputs": [
    {
     "data": {
      "text/plain": [
       "121"
      ]
     },
     "execution_count": 53,
     "metadata": {},
     "output_type": "execute_result"
    }
   ],
   "source": [
    "# count of distinct death place\n",
    "len(list(set(per['Death Place'])))"
   ]
  },
  {
   "cell_type": "code",
   "execution_count": 54,
   "id": "0f99d827",
   "metadata": {},
   "outputs": [
    {
     "data": {
      "image/png": "[encoded data removed]",
      "text/plain": [
       "<Figure size 1152x576 with 1 Axes>"
      ]
     },
     "metadata": {
      "needs_background": "light"
     },
     "output_type": "display_data"
    }
   ],
   "source": [
    "# count of death place\n",
    "death_place = per['Death Place'].value_counts().sort_values(ascending = False).head(10)\n",
    "death_place_plot = death_place.sort_values().plot.barh(figsize = (16, 8))\n",
    "\n",
    "for container in death_place_plot.containers:\n",
    "    death_place_plot.bar_label(container)"
   ]
  },
  {
   "cell_type": "code",
   "execution_count": 55,
   "id": "1a4caab9",
   "metadata": {},
   "outputs": [],
   "source": [
    "from statsmodels.stats.proportion import proportions_ztest"
   ]
  },
  {
   "cell_type": "code",
   "execution_count": 56,
   "id": "61e15ddb",
   "metadata": {},
   "outputs": [
    {
     "data": {
      "text/plain": [
       "(3.818362207070789, 0.0001343405859621092)"
      ]
     },
     "execution_count": 56,
     "metadata": {},
     "output_type": "execute_result"
    }
   ],
   "source": [
    "# z-test of Britain\n",
    "z_score, p_value = proportions_ztest([55, 22], [403, 391])\n",
    "z_score, p_value"
   ]
  },
  {
   "cell_type": "markdown",
   "id": "1d7a9a4a",
   "metadata": {},
   "source": [
    "Relation"
   ]
  },
  {
   "cell_type": "code",
   "execution_count": 57,
   "id": "df22a96b",
   "metadata": {},
   "outputs": [
    {
     "data": {
      "text/plain": [
       "(8404, 6)"
      ]
     },
     "execution_count": 57,
     "metadata": {},
     "output_type": "execute_result"
    }
   ],
   "source": [
    "rel.shape"
   ]
  },
  {
   "cell_type": "code",
   "execution_count": 58,
   "id": "4c1771f1",
   "metadata": {},
   "outputs": [
    {
     "data": {
      "text/html": [
       "<div>\n",
       "<style scoped>\n",
       "    .dataframe tbody tr th:only-of-type {\n",
       "        vertical-align: middle;\n",
       "    }\n",
       "\n",
       "    .dataframe tbody tr th {\n",
       "        vertical-align: top;\n",
       "    }\n",
       "\n",
       "    .dataframe thead th {\n",
       "        text-align: right;\n",
       "    }\n",
       "</style>\n",
       "<table border=\"1\" class=\"dataframe\">\n",
       "  <thead>\n",
       "    <tr style=\"text-align: right;\">\n",
       "      <th></th>\n",
       "      <th>ODIS_ID</th>\n",
       "      <th>REL_TYPE</th>\n",
       "      <th>Relation</th>\n",
       "      <th>Relation Cluster</th>\n",
       "      <th>Relation Note</th>\n",
       "      <th>ODIS_PERS_ID</th>\n",
       "    </tr>\n",
       "  </thead>\n",
       "  <tbody>\n",
       "    <tr>\n",
       "      <th>0</th>\n",
       "      <td>35786</td>\n",
       "      <td>author</td>\n",
       "      <td>author</td>\n",
       "      <td>author</td>\n",
       "      <td>NaN</td>\n",
       "      <td>119246</td>\n",
       "    </tr>\n",
       "    <tr>\n",
       "      <th>1</th>\n",
       "      <td>35914</td>\n",
       "      <td>author</td>\n",
       "      <td>author</td>\n",
       "      <td>author</td>\n",
       "      <td>NaN</td>\n",
       "      <td>119246</td>\n",
       "    </tr>\n",
       "    <tr>\n",
       "      <th>2</th>\n",
       "      <td>36812</td>\n",
       "      <td>author</td>\n",
       "      <td>author</td>\n",
       "      <td>author</td>\n",
       "      <td>NaN</td>\n",
       "      <td>119246</td>\n",
       "    </tr>\n",
       "    <tr>\n",
       "      <th>3</th>\n",
       "      <td>35786</td>\n",
       "      <td>printer</td>\n",
       "      <td>printer</td>\n",
       "      <td>printer/publisher</td>\n",
       "      <td>NaN</td>\n",
       "      <td>119215</td>\n",
       "    </tr>\n",
       "    <tr>\n",
       "      <th>4</th>\n",
       "      <td>35914</td>\n",
       "      <td>printer</td>\n",
       "      <td>printer</td>\n",
       "      <td>printer/publisher</td>\n",
       "      <td>NaN</td>\n",
       "      <td>119215</td>\n",
       "    </tr>\n",
       "  </tbody>\n",
       "</table>\n",
       "</div>"
      ],
      "text/plain": [
       "   ODIS_ID REL_TYPE Relation   Relation Cluster Relation Note  ODIS_PERS_ID\n",
       "0    35786   author   author             author           NaN        119246\n",
       "1    35914   author   author             author           NaN        119246\n",
       "2    36812   author   author             author           NaN        119246\n",
       "3    35786  printer  printer  printer/publisher           NaN        119215\n",
       "4    35914  printer  printer  printer/publisher           NaN        119215"
      ]
     },
     "execution_count": 58,
     "metadata": {},
     "output_type": "execute_result"
    }
   ],
   "source": [
    "rel.head()"
   ]
  },
  {
   "cell_type": "code",
   "execution_count": 59,
   "id": "fd122d49",
   "metadata": {},
   "outputs": [
    {
     "data": {
      "text/plain": [
       "25"
      ]
     },
     "execution_count": 59,
     "metadata": {},
     "output_type": "execute_result"
    }
   ],
   "source": [
    "# count of distinct relation\n",
    "len(list(set([relation for relation in rel['Relation']])))"
   ]
  },
  {
   "cell_type": "code",
   "execution_count": 60,
   "id": "7159b734",
   "metadata": {},
   "outputs": [
    {
     "data": {
      "text/plain": [
       "12"
      ]
     },
     "execution_count": 60,
     "metadata": {},
     "output_type": "execute_result"
    }
   ],
   "source": [
    "# count of distinct relation cluster\n",
    "len(list(set([relation for relation in rel['Relation Cluster']])))"
   ]
  },
  {
   "cell_type": "code",
   "execution_count": 61,
   "id": "4dae6b5f",
   "metadata": {},
   "outputs": [
    {
     "data": {
      "image/png": "[encoded data removed]",
      "text/plain": [
       "<Figure size 1152x576 with 1 Axes>"
      ]
     },
     "metadata": {
      "needs_background": "light"
     },
     "output_type": "display_data"
    }
   ],
   "source": [
    "# count of relation cluster (publication level)\n",
    "relation_pub_plot = rel['Relation Cluster'].value_counts().sort_values().plot.barh(figsize = (16, 8))\n",
    "\n",
    "for container in relation_pub_plot.containers:\n",
    "    relation_pub_plot.bar_label(container)"
   ]
  },
  {
   "cell_type": "code",
   "execution_count": 62,
   "id": "d2c42438",
   "metadata": {},
   "outputs": [
    {
     "data": {
      "text/html": [
       "<div>\n",
       "<style scoped>\n",
       "    .dataframe tbody tr th:only-of-type {\n",
       "        vertical-align: middle;\n",
       "    }\n",
       "\n",
       "    .dataframe tbody tr th {\n",
       "        vertical-align: top;\n",
       "    }\n",
       "\n",
       "    .dataframe thead th {\n",
       "        text-align: right;\n",
       "    }\n",
       "</style>\n",
       "<table border=\"1\" class=\"dataframe\">\n",
       "  <thead>\n",
       "    <tr style=\"text-align: right;\">\n",
       "      <th></th>\n",
       "      <th>Relation</th>\n",
       "      <th>Count</th>\n",
       "      <th>%</th>\n",
       "    </tr>\n",
       "  </thead>\n",
       "  <tbody>\n",
       "    <tr>\n",
       "      <th>9</th>\n",
       "      <td>printer/publisher</td>\n",
       "      <td>3061</td>\n",
       "      <td>36.42</td>\n",
       "    </tr>\n",
       "    <tr>\n",
       "      <th>2</th>\n",
       "      <td>author</td>\n",
       "      <td>2861</td>\n",
       "      <td>34.04</td>\n",
       "    </tr>\n",
       "    <tr>\n",
       "      <th>6</th>\n",
       "      <td>dedicatee</td>\n",
       "      <td>573</td>\n",
       "      <td>6.82</td>\n",
       "    </tr>\n",
       "    <tr>\n",
       "      <th>0</th>\n",
       "      <td>approbator</td>\n",
       "      <td>541</td>\n",
       "      <td>6.44</td>\n",
       "    </tr>\n",
       "    <tr>\n",
       "      <th>4</th>\n",
       "      <td>commentator/eulogist</td>\n",
       "      <td>384</td>\n",
       "      <td>4.57</td>\n",
       "    </tr>\n",
       "    <tr>\n",
       "      <th>10</th>\n",
       "      <td>translator</td>\n",
       "      <td>372</td>\n",
       "      <td>4.43</td>\n",
       "    </tr>\n",
       "    <tr>\n",
       "      <th>5</th>\n",
       "      <td>compiler/editor/revisor</td>\n",
       "      <td>333</td>\n",
       "      <td>3.96</td>\n",
       "    </tr>\n",
       "    <tr>\n",
       "      <th>7</th>\n",
       "      <td>engraver/etcher/illustrator</td>\n",
       "      <td>129</td>\n",
       "      <td>1.53</td>\n",
       "    </tr>\n",
       "    <tr>\n",
       "      <th>3</th>\n",
       "      <td>collaborator/contributor/signer</td>\n",
       "      <td>104</td>\n",
       "      <td>1.24</td>\n",
       "    </tr>\n",
       "    <tr>\n",
       "      <th>11</th>\n",
       "      <td>unspecified</td>\n",
       "      <td>30</td>\n",
       "      <td>0.36</td>\n",
       "    </tr>\n",
       "    <tr>\n",
       "      <th>1</th>\n",
       "      <td>archbishop/bishop</td>\n",
       "      <td>8</td>\n",
       "      <td>0.10</td>\n",
       "    </tr>\n",
       "    <tr>\n",
       "      <th>8</th>\n",
       "      <td>heirs/widow</td>\n",
       "      <td>8</td>\n",
       "      <td>0.10</td>\n",
       "    </tr>\n",
       "  </tbody>\n",
       "</table>\n",
       "</div>"
      ],
      "text/plain": [
       "                           Relation  Count      %\n",
       "9                 printer/publisher   3061  36.42\n",
       "2                            author   2861  34.04\n",
       "6                         dedicatee    573   6.82\n",
       "0                        approbator    541   6.44\n",
       "4              commentator/eulogist    384   4.57\n",
       "10                       translator    372   4.43\n",
       "5           compiler/editor/revisor    333   3.96\n",
       "7       engraver/etcher/illustrator    129   1.53\n",
       "3   collaborator/contributor/signer    104   1.24\n",
       "11                      unspecified     30   0.36\n",
       "1                 archbishop/bishop      8   0.10\n",
       "8                       heirs/widow      8   0.10"
      ]
     },
     "execution_count": 62,
     "metadata": {},
     "output_type": "execute_result"
    }
   ],
   "source": [
    "# count and % table of relation cluster (publication level)\n",
    "relation_pub_table = pd.DataFrame()\n",
    "relation_pub_name = list(set([relation for relation in rel['Relation Cluster'] if not str(relation) == 'nan']))\n",
    "relation_pub_name.sort()\n",
    "relation_pub_table['Relation'] = relation_pub_name\n",
    "\n",
    "relation_pub_count = [count for count in rel['Relation Cluster'].value_counts().sort_index(ascending = True)]\n",
    "relation_pub_table['Count'] = relation_pub_count\n",
    "\n",
    "relation_pub_pro = [round((count / sum(rel['Relation Cluster'].value_counts())) * 100, 2) for count in relation_pub_count]\n",
    "relation_pub_table['%'] = relation_pub_pro\n",
    "\n",
    "relation_pub_table.sort_values(by = 'Count', ascending = False)"
   ]
  },
  {
   "cell_type": "code",
   "execution_count": 63,
   "id": "03b44b0c",
   "metadata": {},
   "outputs": [],
   "source": [
    "# create dictionary storing relation cluster of each person\n",
    "relation_dict = {}\n",
    "for i in range(0, len(rel)):\n",
    "    if not rel['Relation Cluster'][i] in relation_dict:\n",
    "        relation_dict[rel['Relation Cluster'][i]] = [rel['ODIS_PERS_ID'][i]]\n",
    "    else:\n",
    "        if not rel['ODIS_PERS_ID'][i] in relation_dict[rel['Relation Cluster'][i]]:\n",
    "            relation_dict[rel['Relation Cluster'][i]].append(rel['ODIS_PERS_ID'][i])"
   ]
  },
  {
   "cell_type": "code",
   "execution_count": 64,
   "id": "7e010e97",
   "metadata": {},
   "outputs": [
    {
     "data": {
      "text/html": [
       "<div>\n",
       "<style scoped>\n",
       "    .dataframe tbody tr th:only-of-type {\n",
       "        vertical-align: middle;\n",
       "    }\n",
       "\n",
       "    .dataframe tbody tr th {\n",
       "        vertical-align: top;\n",
       "    }\n",
       "\n",
       "    .dataframe thead th {\n",
       "        text-align: right;\n",
       "    }\n",
       "</style>\n",
       "<table border=\"1\" class=\"dataframe\">\n",
       "  <thead>\n",
       "    <tr style=\"text-align: right;\">\n",
       "      <th></th>\n",
       "      <th>Relation</th>\n",
       "      <th>Count</th>\n",
       "      <th>%</th>\n",
       "    </tr>\n",
       "  </thead>\n",
       "  <tbody>\n",
       "    <tr>\n",
       "      <th>2</th>\n",
       "      <td>author</td>\n",
       "      <td>1220</td>\n",
       "      <td>58.63</td>\n",
       "    </tr>\n",
       "    <tr>\n",
       "      <th>6</th>\n",
       "      <td>dedicatee</td>\n",
       "      <td>323</td>\n",
       "      <td>15.52</td>\n",
       "    </tr>\n",
       "    <tr>\n",
       "      <th>4</th>\n",
       "      <td>commentator/eulogist</td>\n",
       "      <td>229</td>\n",
       "      <td>11.00</td>\n",
       "    </tr>\n",
       "    <tr>\n",
       "      <th>10</th>\n",
       "      <td>translator</td>\n",
       "      <td>147</td>\n",
       "      <td>7.06</td>\n",
       "    </tr>\n",
       "    <tr>\n",
       "      <th>5</th>\n",
       "      <td>compiler/editor/revisor</td>\n",
       "      <td>138</td>\n",
       "      <td>6.63</td>\n",
       "    </tr>\n",
       "    <tr>\n",
       "      <th>9</th>\n",
       "      <td>printer/publisher</td>\n",
       "      <td>105</td>\n",
       "      <td>5.05</td>\n",
       "    </tr>\n",
       "    <tr>\n",
       "      <th>3</th>\n",
       "      <td>collaborator/contributor/signer</td>\n",
       "      <td>94</td>\n",
       "      <td>4.52</td>\n",
       "    </tr>\n",
       "    <tr>\n",
       "      <th>0</th>\n",
       "      <td>approbator</td>\n",
       "      <td>91</td>\n",
       "      <td>4.37</td>\n",
       "    </tr>\n",
       "    <tr>\n",
       "      <th>11</th>\n",
       "      <td>unspecified</td>\n",
       "      <td>25</td>\n",
       "      <td>1.20</td>\n",
       "    </tr>\n",
       "    <tr>\n",
       "      <th>7</th>\n",
       "      <td>engraver/etcher/illustrator</td>\n",
       "      <td>22</td>\n",
       "      <td>1.06</td>\n",
       "    </tr>\n",
       "    <tr>\n",
       "      <th>1</th>\n",
       "      <td>archbishop/bishop</td>\n",
       "      <td>6</td>\n",
       "      <td>0.29</td>\n",
       "    </tr>\n",
       "    <tr>\n",
       "      <th>8</th>\n",
       "      <td>heirs/widow</td>\n",
       "      <td>6</td>\n",
       "      <td>0.29</td>\n",
       "    </tr>\n",
       "  </tbody>\n",
       "</table>\n",
       "</div>"
      ],
      "text/plain": [
       "                           Relation  Count      %\n",
       "2                            author   1220  58.63\n",
       "6                         dedicatee    323  15.52\n",
       "4              commentator/eulogist    229  11.00\n",
       "10                       translator    147   7.06\n",
       "5           compiler/editor/revisor    138   6.63\n",
       "9                 printer/publisher    105   5.05\n",
       "3   collaborator/contributor/signer     94   4.52\n",
       "0                        approbator     91   4.37\n",
       "11                      unspecified     25   1.20\n",
       "7       engraver/etcher/illustrator     22   1.06\n",
       "1                 archbishop/bishop      6   0.29\n",
       "8                       heirs/widow      6   0.29"
      ]
     },
     "execution_count": 64,
     "metadata": {},
     "output_type": "execute_result"
    }
   ],
   "source": [
    "# count and % table of relation cluster (person level)\n",
    "relation_per_table = pd.DataFrame()\n",
    "relation_per_name = list(set([relation for relation in rel['Relation Cluster'] if not str(relation) == 'nan']))\n",
    "relation_per_name.sort()\n",
    "relation_per_table['Relation'] = relation_per_name\n",
    "\n",
    "relation_per_count = []\n",
    "for name in relation_per_name:\n",
    "    relation_per_count.append(len(relation_dict[name]))\n",
    "relation_per_table['Count'] = relation_per_count\n",
    "\n",
    "relation_per_pro = [round((count / len(per)) * 100, 2) for count in relation_per_count]\n",
    "relation_per_table['%'] = relation_per_pro\n",
    "\n",
    "relation_per_table.sort_values(by = 'Count', ascending = False)"
   ]
  },
  {
   "cell_type": "code",
   "execution_count": 65,
   "id": "89e6556e",
   "metadata": {},
   "outputs": [
    {
     "data": {
      "image/png": "[encoded data removed]",
      "text/plain": [
       "<Figure size 1152x576 with 1 Axes>"
      ]
     },
     "metadata": {
      "needs_background": "light"
     },
     "output_type": "display_data"
    }
   ],
   "source": [
    "relation_per_plot = relation_per_table.sort_values(by = 'Count').plot.barh(x = 'Relation', \n",
    "                                                                           y = 'Count', \n",
    "                                                                           figsize = (16, 8), \n",
    "                                                                           legend = False)\n",
    "relation_per_plot.tick_params(axis='x', labelsize = 16)\n",
    "relation_per_plot.tick_params(axis='y', labelsize = 16)\n",
    "\n",
    "for container in relation_per_plot.containers:\n",
    "    relation_per_plot.bar_label(container)"
   ]
  },
  {
   "cell_type": "code",
   "execution_count": 66,
   "id": "9cd31add",
   "metadata": {},
   "outputs": [
    {
     "data": {
      "text/html": [
       "<div>\n",
       "<style scoped>\n",
       "    .dataframe tbody tr th:only-of-type {\n",
       "        vertical-align: middle;\n",
       "    }\n",
       "\n",
       "    .dataframe tbody tr th {\n",
       "        vertical-align: top;\n",
       "    }\n",
       "\n",
       "    .dataframe thead th {\n",
       "        text-align: right;\n",
       "    }\n",
       "</style>\n",
       "<table border=\"1\" class=\"dataframe\">\n",
       "  <thead>\n",
       "    <tr style=\"text-align: right;\">\n",
       "      <th></th>\n",
       "      <th>Relation</th>\n",
       "      <th>Count_x</th>\n",
       "      <th>%_x</th>\n",
       "      <th>Count_y</th>\n",
       "      <th>%_y</th>\n",
       "      <th>per person</th>\n",
       "    </tr>\n",
       "  </thead>\n",
       "  <tbody>\n",
       "    <tr>\n",
       "      <th>9</th>\n",
       "      <td>printer/publisher</td>\n",
       "      <td>3061</td>\n",
       "      <td>36.42</td>\n",
       "      <td>105</td>\n",
       "      <td>5.05</td>\n",
       "      <td>29.15</td>\n",
       "    </tr>\n",
       "    <tr>\n",
       "      <th>0</th>\n",
       "      <td>approbator</td>\n",
       "      <td>541</td>\n",
       "      <td>6.44</td>\n",
       "      <td>91</td>\n",
       "      <td>4.37</td>\n",
       "      <td>5.95</td>\n",
       "    </tr>\n",
       "    <tr>\n",
       "      <th>7</th>\n",
       "      <td>engraver/etcher/illustrator</td>\n",
       "      <td>129</td>\n",
       "      <td>1.53</td>\n",
       "      <td>22</td>\n",
       "      <td>1.06</td>\n",
       "      <td>5.86</td>\n",
       "    </tr>\n",
       "    <tr>\n",
       "      <th>10</th>\n",
       "      <td>translator</td>\n",
       "      <td>372</td>\n",
       "      <td>4.43</td>\n",
       "      <td>147</td>\n",
       "      <td>7.06</td>\n",
       "      <td>2.53</td>\n",
       "    </tr>\n",
       "    <tr>\n",
       "      <th>5</th>\n",
       "      <td>compiler/editor/revisor</td>\n",
       "      <td>333</td>\n",
       "      <td>3.96</td>\n",
       "      <td>138</td>\n",
       "      <td>6.63</td>\n",
       "      <td>2.41</td>\n",
       "    </tr>\n",
       "    <tr>\n",
       "      <th>2</th>\n",
       "      <td>author</td>\n",
       "      <td>2861</td>\n",
       "      <td>34.04</td>\n",
       "      <td>1220</td>\n",
       "      <td>58.63</td>\n",
       "      <td>2.35</td>\n",
       "    </tr>\n",
       "    <tr>\n",
       "      <th>6</th>\n",
       "      <td>dedicatee</td>\n",
       "      <td>573</td>\n",
       "      <td>6.82</td>\n",
       "      <td>323</td>\n",
       "      <td>15.52</td>\n",
       "      <td>1.77</td>\n",
       "    </tr>\n",
       "    <tr>\n",
       "      <th>4</th>\n",
       "      <td>commentator/eulogist</td>\n",
       "      <td>384</td>\n",
       "      <td>4.57</td>\n",
       "      <td>229</td>\n",
       "      <td>11.00</td>\n",
       "      <td>1.68</td>\n",
       "    </tr>\n",
       "    <tr>\n",
       "      <th>1</th>\n",
       "      <td>archbishop/bishop</td>\n",
       "      <td>8</td>\n",
       "      <td>0.10</td>\n",
       "      <td>6</td>\n",
       "      <td>0.29</td>\n",
       "      <td>1.33</td>\n",
       "    </tr>\n",
       "    <tr>\n",
       "      <th>8</th>\n",
       "      <td>heirs/widow</td>\n",
       "      <td>8</td>\n",
       "      <td>0.10</td>\n",
       "      <td>6</td>\n",
       "      <td>0.29</td>\n",
       "      <td>1.33</td>\n",
       "    </tr>\n",
       "    <tr>\n",
       "      <th>11</th>\n",
       "      <td>unspecified</td>\n",
       "      <td>30</td>\n",
       "      <td>0.36</td>\n",
       "      <td>25</td>\n",
       "      <td>1.20</td>\n",
       "      <td>1.20</td>\n",
       "    </tr>\n",
       "    <tr>\n",
       "      <th>3</th>\n",
       "      <td>collaborator/contributor/signer</td>\n",
       "      <td>104</td>\n",
       "      <td>1.24</td>\n",
       "      <td>94</td>\n",
       "      <td>4.52</td>\n",
       "      <td>1.11</td>\n",
       "    </tr>\n",
       "  </tbody>\n",
       "</table>\n",
       "</div>"
      ],
      "text/plain": [
       "                           Relation  Count_x    %_x  Count_y    %_y  \\\n",
       "9                 printer/publisher     3061  36.42      105   5.05   \n",
       "0                        approbator      541   6.44       91   4.37   \n",
       "7       engraver/etcher/illustrator      129   1.53       22   1.06   \n",
       "10                       translator      372   4.43      147   7.06   \n",
       "5           compiler/editor/revisor      333   3.96      138   6.63   \n",
       "2                            author     2861  34.04     1220  58.63   \n",
       "6                         dedicatee      573   6.82      323  15.52   \n",
       "4              commentator/eulogist      384   4.57      229  11.00   \n",
       "1                 archbishop/bishop        8   0.10        6   0.29   \n",
       "8                       heirs/widow        8   0.10        6   0.29   \n",
       "11                      unspecified       30   0.36       25   1.20   \n",
       "3   collaborator/contributor/signer      104   1.24       94   4.52   \n",
       "\n",
       "    per person  \n",
       "9        29.15  \n",
       "0         5.95  \n",
       "7         5.86  \n",
       "10        2.53  \n",
       "5         2.41  \n",
       "2         2.35  \n",
       "6         1.77  \n",
       "4         1.68  \n",
       "1         1.33  \n",
       "8         1.33  \n",
       "11        1.20  \n",
       "3         1.11  "
      ]
     },
     "execution_count": 66,
     "metadata": {},
     "output_type": "execute_result"
    }
   ],
   "source": [
    "# count and % table of relation cluster (compare)\n",
    "relation_com_table = pd.merge(relation_pub_table, relation_per_table, on = 'Relation')\n",
    "com = []\n",
    "for i in range(0, len(relation_com_table)):\n",
    "    com.append(round(relation_com_table['Count_x'][i] / relation_com_table['Count_y'][i], 2))\n",
    "relation_com_table['per person'] = com\n",
    "relation_com_table.sort_values(by = 'per person', ascending = False)"
   ]
  },
  {
   "cell_type": "code",
   "execution_count": 67,
   "id": "7615c619",
   "metadata": {},
   "outputs": [
    {
     "data": {
      "text/plain": [
       "3.49"
      ]
     },
     "execution_count": 67,
     "metadata": {},
     "output_type": "execute_result"
    }
   ],
   "source": [
    "# total\n",
    "round(sum([count for count in relation_com_table['Count_x']]) / sum([count for count in relation_com_table['Count_y']]), 2)"
   ]
  }
 ],
 "metadata": {
  "kernelspec": {
   "display_name": "Python 3 (ipykernel)",
   "language": "python",
   "name": "python3"
  },
  "language_info": {
   "codemirror_mode": {
    "name": "ipython",
    "version": 3
   },
   "file_extension": ".py",
   "mimetype": "text/x-python",
   "name": "python",
   "nbconvert_exporter": "python",
   "pygments_lexer": "ipython3",
   "version": "3.9.12"
  }
 },
 "nbformat": 4,
 "nbformat_minor": 5
}
