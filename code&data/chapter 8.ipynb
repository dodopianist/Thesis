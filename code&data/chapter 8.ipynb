{
 "cells": [
  {
   "cell_type": "code",
   "execution_count": 1,
   "id": "5d7fb4ff",
   "metadata": {},
   "outputs": [],
   "source": [
    "import pandas as pd\n",
    "meta = pd.read_csv('data/pub_filter.csv')\n",
    "rel = pd.read_csv('data/pub_relation.csv')\n",
    "pub = pd.read_csv('data/dist_pub.csv')\n",
    "per = pd.read_csv('data/dist_per.csv')"
   ]
  },
  {
   "cell_type": "markdown",
   "id": "1c6c3845",
   "metadata": {},
   "source": [
    "Add role, language and period for person"
   ]
  },
  {
   "cell_type": "code",
   "execution_count": 2,
   "id": "fa452ce5",
   "metadata": {},
   "outputs": [],
   "source": [
    "# role\n",
    "rel_name = list(set([name for name in rel['Relation Cluster']]))\n",
    "rel_name.sort()"
   ]
  },
  {
   "cell_type": "code",
   "execution_count": 3,
   "id": "9a5ee734",
   "metadata": {},
   "outputs": [
    {
     "data": {
      "text/plain": [
       "['approbator',\n",
       " 'archbishop/bishop',\n",
       " 'author',\n",
       " 'collaborator/contributor/signer',\n",
       " 'commentator/eulogist',\n",
       " 'compiler/editor/revisor',\n",
       " 'dedicatee',\n",
       " 'engraver/etcher/illustrator',\n",
       " 'heirs/widow',\n",
       " 'printer/publisher',\n",
       " 'translator',\n",
       " 'unspecified']"
      ]
     },
     "execution_count": 3,
     "metadata": {},
     "output_type": "execute_result"
    }
   ],
   "source": [
    "rel_name"
   ]
  },
  {
   "cell_type": "code",
   "execution_count": 4,
   "id": "807d63ab",
   "metadata": {},
   "outputs": [],
   "source": [
    "rel_dict = {}\n",
    "for relation in rel_name:\n",
    "    for i in range(0, len(rel)):\n",
    "        if relation == rel['Relation Cluster'][i]:\n",
    "            if not rel['ODIS_PERS_ID'][i] in rel_dict:\n",
    "                rel_dict[rel['ODIS_PERS_ID'][i]] = {relation: [rel['ODIS_ID'][i]]}\n",
    "            else:\n",
    "                if not relation in rel_dict[rel['ODIS_PERS_ID'][i]]:\n",
    "                    rel_dict[rel['ODIS_PERS_ID'][i]][relation] = [rel['ODIS_ID'][i]]\n",
    "                else:\n",
    "                    rel_dict[rel['ODIS_PERS_ID'][i]][relation].append(rel['ODIS_ID'][i])"
   ]
  },
  {
   "cell_type": "code",
   "execution_count": 5,
   "id": "29acbbb8",
   "metadata": {},
   "outputs": [],
   "source": [
    "for relation in rel_name:\n",
    "    column_count = []\n",
    "    for i in range(0, len(per)):\n",
    "        if relation in rel_dict[per['ODIS_PERS_ID'][i]]:\n",
    "            column_count.append(len(list(set(rel_dict[per['ODIS_PERS_ID'][i]][relation]))))\n",
    "        else:\n",
    "            column_count.append(0)\n",
    "    per[relation] = column_count"
   ]
  },
  {
   "cell_type": "code",
   "execution_count": 6,
   "id": "faa1a5b2",
   "metadata": {},
   "outputs": [],
   "source": [
    "# language\n",
    "lan_name = list(set([name for name in meta['Language']]))\n",
    "lan_name.sort()"
   ]
  },
  {
   "cell_type": "code",
   "execution_count": 7,
   "id": "96f758fa",
   "metadata": {},
   "outputs": [
    {
     "data": {
      "text/plain": [
       "['DUTCH', 'ENGLISH', 'FRENCH', 'GERMAN', 'LATIN', 'SPANISH']"
      ]
     },
     "execution_count": 7,
     "metadata": {},
     "output_type": "execute_result"
    }
   ],
   "source": [
    "lan_name"
   ]
  },
  {
   "cell_type": "code",
   "execution_count": 8,
   "id": "9b4f106d",
   "metadata": {},
   "outputs": [],
   "source": [
    "lan_dict = {}\n",
    "for language in lan_name:\n",
    "    for i in range(0, len(meta)):\n",
    "        if language == meta['Language'][i]:\n",
    "            if not meta['ODIS_PERS_ID'][i] in lan_dict:\n",
    "                lan_dict[meta['ODIS_PERS_ID'][i]] = {language: [meta['ODIS_ID'][i]]}\n",
    "            else:\n",
    "                if not language in lan_dict[meta['ODIS_PERS_ID'][i]]:\n",
    "                    lan_dict[meta['ODIS_PERS_ID'][i]][language] = [meta['ODIS_ID'][i]]\n",
    "                else:\n",
    "                    lan_dict[meta['ODIS_PERS_ID'][i]][language].append(meta['ODIS_ID'][i])"
   ]
  },
  {
   "cell_type": "code",
   "execution_count": 9,
   "id": "46fb0e6d",
   "metadata": {},
   "outputs": [],
   "source": [
    "for language in lan_name:\n",
    "    column_count = []\n",
    "    for i in range(0, len(per)):\n",
    "        if language in lan_dict[per['ODIS_PERS_ID'][i]]:\n",
    "            column_count.append(len(list(set(lan_dict[per['ODIS_PERS_ID'][i]][language]))))\n",
    "        else:\n",
    "            column_count.append(0)\n",
    "    per[language] = column_count"
   ]
  },
  {
   "cell_type": "code",
   "execution_count": 10,
   "id": "e2904057",
   "metadata": {},
   "outputs": [],
   "source": [
    "# period\n",
    "period_name = list(set([name for name in meta['Publication Period']]))\n",
    "period_name.sort()"
   ]
  },
  {
   "cell_type": "code",
   "execution_count": 11,
   "id": "3586a7a2",
   "metadata": {},
   "outputs": [
    {
     "data": {
      "text/plain": [
       "['1550s',\n",
       " '1560s',\n",
       " '1570s',\n",
       " '1580s',\n",
       " '1590s',\n",
       " '1600s',\n",
       " '1610s',\n",
       " '1620s',\n",
       " '1630s',\n",
       " '1640s',\n",
       " '1650s']"
      ]
     },
     "execution_count": 11,
     "metadata": {},
     "output_type": "execute_result"
    }
   ],
   "source": [
    "period_name"
   ]
  },
  {
   "cell_type": "code",
   "execution_count": 12,
   "id": "6711b269",
   "metadata": {},
   "outputs": [],
   "source": [
    "period_dict = {}\n",
    "for period in period_name:\n",
    "    for i in range(0, len(meta)):\n",
    "        if period == meta['Publication Period'][i]:\n",
    "            if not meta['ODIS_PERS_ID'][i] in period_dict:\n",
    "                period_dict[meta['ODIS_PERS_ID'][i]] = {period: [meta['ODIS_ID'][i]]}\n",
    "            else:\n",
    "                if not period in period_dict[meta['ODIS_PERS_ID'][i]]:\n",
    "                    period_dict[meta['ODIS_PERS_ID'][i]][period] = [meta['ODIS_ID'][i]]\n",
    "                else:\n",
    "                    period_dict[meta['ODIS_PERS_ID'][i]][period].append(meta['ODIS_ID'][i])"
   ]
  },
  {
   "cell_type": "code",
   "execution_count": 13,
   "id": "ca39e60a",
   "metadata": {},
   "outputs": [],
   "source": [
    "for period in period_name:\n",
    "    column_count = []\n",
    "    for i in range(0, len(per)):\n",
    "        if period in period_dict[per['ODIS_PERS_ID'][i]]:\n",
    "            column_count.append(len(list(set(period_dict[per['ODIS_PERS_ID'][i]][period]))))\n",
    "        else:\n",
    "            column_count.append(0)\n",
    "    per[period] = column_count"
   ]
  },
  {
   "cell_type": "code",
   "execution_count": 14,
   "id": "2a6971f7",
   "metadata": {},
   "outputs": [
    {
     "data": {
      "text/html": [
       "<div>\n",
       "<style scoped>\n",
       "    .dataframe tbody tr th:only-of-type {\n",
       "        vertical-align: middle;\n",
       "    }\n",
       "\n",
       "    .dataframe tbody tr th {\n",
       "        vertical-align: top;\n",
       "    }\n",
       "\n",
       "    .dataframe thead th {\n",
       "        text-align: right;\n",
       "    }\n",
       "</style>\n",
       "<table border=\"1\" class=\"dataframe\">\n",
       "  <thead>\n",
       "    <tr style=\"text-align: right;\">\n",
       "      <th></th>\n",
       "      <th>ODIS_PERS_ID</th>\n",
       "      <th>REL_PERS_REF_SURNAME</th>\n",
       "      <th>REL_PERS_REF_FIRST_NAME</th>\n",
       "      <th>Full Name</th>\n",
       "      <th>Birth Year</th>\n",
       "      <th>Birth Country</th>\n",
       "      <th>Birth Place</th>\n",
       "      <th>Death Year</th>\n",
       "      <th>Death Country</th>\n",
       "      <th>Death Place</th>\n",
       "      <th>...</th>\n",
       "      <th>1650s</th>\n",
       "      <th>Birth Region</th>\n",
       "      <th>Death Region</th>\n",
       "      <th>Printing House</th>\n",
       "      <th>House Origion</th>\n",
       "      <th>House Note</th>\n",
       "      <th>Gender</th>\n",
       "      <th>Most Involved Role</th>\n",
       "      <th>Most Involved Language</th>\n",
       "      <th>Most Involved Period</th>\n",
       "    </tr>\n",
       "  </thead>\n",
       "  <tbody>\n",
       "    <tr>\n",
       "      <th>0</th>\n",
       "      <td>53546</td>\n",
       "      <td>de Loyola</td>\n",
       "      <td>Ignatius</td>\n",
       "      <td>Ignatius de Loyola</td>\n",
       "      <td>1491.0</td>\n",
       "      <td>NaN</td>\n",
       "      <td>NaN</td>\n",
       "      <td>1556.0</td>\n",
       "      <td>NaN</td>\n",
       "      <td>NaN</td>\n",
       "      <td>...</td>\n",
       "      <td>0</td>\n",
       "      <td>NaN</td>\n",
       "      <td>NaN</td>\n",
       "      <td>NaN</td>\n",
       "      <td>NaN</td>\n",
       "      <td>NaN</td>\n",
       "      <td>Male or Unspecified</td>\n",
       "      <td>author</td>\n",
       "      <td>FRENCH</td>\n",
       "      <td>1600s</td>\n",
       "    </tr>\n",
       "    <tr>\n",
       "      <th>1</th>\n",
       "      <td>64493</td>\n",
       "      <td>Acx</td>\n",
       "      <td>Fernandus</td>\n",
       "      <td>Fernandus Acx</td>\n",
       "      <td>1839.0</td>\n",
       "      <td>Belgium</td>\n",
       "      <td>Pittem</td>\n",
       "      <td>NaN</td>\n",
       "      <td>NaN</td>\n",
       "      <td>NaN</td>\n",
       "      <td>...</td>\n",
       "      <td>0</td>\n",
       "      <td>Low Countries</td>\n",
       "      <td>NaN</td>\n",
       "      <td>NaN</td>\n",
       "      <td>NaN</td>\n",
       "      <td>NaN</td>\n",
       "      <td>Male or Unspecified</td>\n",
       "      <td>author</td>\n",
       "      <td>ENGLISH</td>\n",
       "      <td>1630s</td>\n",
       "    </tr>\n",
       "    <tr>\n",
       "      <th>2</th>\n",
       "      <td>77188</td>\n",
       "      <td>Perrenot de Granvelle</td>\n",
       "      <td>Antonius</td>\n",
       "      <td>Antonius Perrenot de Granvelle</td>\n",
       "      <td>1517.0</td>\n",
       "      <td>France</td>\n",
       "      <td>France</td>\n",
       "      <td>1586.0</td>\n",
       "      <td>Spain</td>\n",
       "      <td>Madrid</td>\n",
       "      <td>...</td>\n",
       "      <td>0</td>\n",
       "      <td>France</td>\n",
       "      <td>Iberian Union</td>\n",
       "      <td>NaN</td>\n",
       "      <td>NaN</td>\n",
       "      <td>NaN</td>\n",
       "      <td>Male or Unspecified</td>\n",
       "      <td>dedicatee</td>\n",
       "      <td>FRENCH</td>\n",
       "      <td>Multi</td>\n",
       "    </tr>\n",
       "    <tr>\n",
       "      <th>3</th>\n",
       "      <td>77190</td>\n",
       "      <td>Boonen</td>\n",
       "      <td>Jacobus</td>\n",
       "      <td>Jacobus Boonen</td>\n",
       "      <td>1573.0</td>\n",
       "      <td>Belgium</td>\n",
       "      <td>Antwerpen</td>\n",
       "      <td>1655.0</td>\n",
       "      <td>Belgium</td>\n",
       "      <td>Brussel</td>\n",
       "      <td>...</td>\n",
       "      <td>0</td>\n",
       "      <td>Low Countries</td>\n",
       "      <td>Low Countries</td>\n",
       "      <td>NaN</td>\n",
       "      <td>NaN</td>\n",
       "      <td>NaN</td>\n",
       "      <td>Male or Unspecified</td>\n",
       "      <td>dedicatee</td>\n",
       "      <td>LATIN</td>\n",
       "      <td>Multi</td>\n",
       "    </tr>\n",
       "    <tr>\n",
       "      <th>4</th>\n",
       "      <td>94638</td>\n",
       "      <td>Malderus</td>\n",
       "      <td>Joannes</td>\n",
       "      <td>Joannes Malderus</td>\n",
       "      <td>1563.0</td>\n",
       "      <td>Belgium</td>\n",
       "      <td>Sint-Pieters-Leeuw</td>\n",
       "      <td>1633.0</td>\n",
       "      <td>Belgium</td>\n",
       "      <td>Antwerpen</td>\n",
       "      <td>...</td>\n",
       "      <td>0</td>\n",
       "      <td>Low Countries</td>\n",
       "      <td>Low Countries</td>\n",
       "      <td>NaN</td>\n",
       "      <td>NaN</td>\n",
       "      <td>NaN</td>\n",
       "      <td>Male or Unspecified</td>\n",
       "      <td>Multi</td>\n",
       "      <td>LATIN</td>\n",
       "      <td>1620s</td>\n",
       "    </tr>\n",
       "  </tbody>\n",
       "</table>\n",
       "<p>5 rows × 48 columns</p>\n",
       "</div>"
      ],
      "text/plain": [
       "   ODIS_PERS_ID   REL_PERS_REF_SURNAME REL_PERS_REF_FIRST_NAME  \\\n",
       "0         53546              de Loyola                Ignatius   \n",
       "1         64493                    Acx               Fernandus   \n",
       "2         77188  Perrenot de Granvelle                Antonius   \n",
       "3         77190                 Boonen                 Jacobus   \n",
       "4         94638               Malderus                 Joannes   \n",
       "\n",
       "                        Full Name  Birth Year Birth Country  \\\n",
       "0              Ignatius de Loyola      1491.0           NaN   \n",
       "1                   Fernandus Acx      1839.0       Belgium   \n",
       "2  Antonius Perrenot de Granvelle      1517.0        France   \n",
       "3                  Jacobus Boonen      1573.0       Belgium   \n",
       "4                Joannes Malderus      1563.0       Belgium   \n",
       "\n",
       "          Birth Place  Death Year Death Country Death Place  ...  1650s  \\\n",
       "0                 NaN      1556.0           NaN         NaN  ...      0   \n",
       "1              Pittem         NaN           NaN         NaN  ...      0   \n",
       "2              France      1586.0         Spain      Madrid  ...      0   \n",
       "3           Antwerpen      1655.0       Belgium     Brussel  ...      0   \n",
       "4  Sint-Pieters-Leeuw      1633.0       Belgium   Antwerpen  ...      0   \n",
       "\n",
       "    Birth Region   Death Region  Printing House  House Origion  House Note  \\\n",
       "0            NaN            NaN             NaN            NaN         NaN   \n",
       "1  Low Countries            NaN             NaN            NaN         NaN   \n",
       "2         France  Iberian Union             NaN            NaN         NaN   \n",
       "3  Low Countries  Low Countries             NaN            NaN         NaN   \n",
       "4  Low Countries  Low Countries             NaN            NaN         NaN   \n",
       "\n",
       "                Gender  Most Involved Role  Most Involved Language  \\\n",
       "0  Male or Unspecified              author                  FRENCH   \n",
       "1  Male or Unspecified              author                 ENGLISH   \n",
       "2  Male or Unspecified           dedicatee                  FRENCH   \n",
       "3  Male or Unspecified           dedicatee                   LATIN   \n",
       "4  Male or Unspecified               Multi                   LATIN   \n",
       "\n",
       "   Most Involved Period  \n",
       "0                 1600s  \n",
       "1                 1630s  \n",
       "2                 Multi  \n",
       "3                 Multi  \n",
       "4                 1620s  \n",
       "\n",
       "[5 rows x 48 columns]"
      ]
     },
     "execution_count": 14,
     "metadata": {},
     "output_type": "execute_result"
    }
   ],
   "source": [
    "per.head()"
   ]
  },
  {
   "cell_type": "markdown",
   "id": "2532f7aa",
   "metadata": {},
   "source": [
    "Add country column for publication"
   ]
  },
  {
   "cell_type": "code",
   "execution_count": 16,
   "id": "1301d1e1",
   "metadata": {},
   "outputs": [],
   "source": [
    "correct_country = pd.read_csv('data/correct_country.csv')"
   ]
  },
  {
   "cell_type": "code",
   "execution_count": 17,
   "id": "14ed65b8",
   "metadata": {},
   "outputs": [],
   "source": [
    "meta_merge = pd.merge(meta.iloc[:, 0:16], correct_country, on = 'ODIS_PERS_ID')"
   ]
  },
  {
   "cell_type": "code",
   "execution_count": 19,
   "id": "bbc87eb3",
   "metadata": {},
   "outputs": [],
   "source": [
    "country_name = list(set([name for name in meta['Birth Region'] if not str(name) == 'nan']))\n",
    "for name in meta['Death Region']:\n",
    "    if not str(name) == 'nan':\n",
    "        if not name in country_name:\n",
    "            country_name.append(name)\n",
    "country_name.sort()"
   ]
  },
  {
   "cell_type": "code",
   "execution_count": 20,
   "id": "4b7e8c21",
   "metadata": {},
   "outputs": [
    {
     "data": {
      "text/plain": [
       "['Britain',\n",
       " 'China',\n",
       " 'France',\n",
       " 'Genève',\n",
       " 'Holy Roman Empire',\n",
       " 'Iberian Union',\n",
       " 'Italy',\n",
       " 'Low Countries',\n",
       " 'Spanish Peru']"
      ]
     },
     "execution_count": 20,
     "metadata": {},
     "output_type": "execute_result"
    }
   ],
   "source": [
    "country_name"
   ]
  },
  {
   "cell_type": "code",
   "execution_count": 21,
   "id": "886320f7",
   "metadata": {},
   "outputs": [],
   "source": [
    "country_dict = {}\n",
    "for country in country_name:\n",
    "    for i in range(0, len(meta)):\n",
    "        if country == meta['Birth Region'][i]:\n",
    "            if not meta['ODIS_ID'][i] in country_dict:\n",
    "                country_dict[meta['ODIS_ID'][i]] = {country: [meta['ODIS_PERS_ID'][i]]}\n",
    "            else:\n",
    "                if not country in country_dict[meta['ODIS_ID'][i]]:\n",
    "                    country_dict[meta['ODIS_ID'][i]][country] = [meta['ODIS_PERS_ID'][i]]\n",
    "                else:\n",
    "                    country_dict[meta['ODIS_ID'][i]][country].append(meta['ODIS_PERS_ID'][i])"
   ]
  },
  {
   "cell_type": "code",
   "execution_count": 22,
   "id": "f5a75bff",
   "metadata": {},
   "outputs": [],
   "source": [
    "for country in country_name:\n",
    "    column_count = []\n",
    "    for i in range(0, len(pub)):\n",
    "        try:\n",
    "            if country in country_dict[pub['ODIS_ID'][i]]:\n",
    "                column_count.append(len(list(set(country_dict[pub['ODIS_ID'][i]][country]))))\n",
    "            else:\n",
    "                column_count.append(0)\n",
    "        except:\n",
    "            column_count.append(0)\n",
    "    if not sum(column_count) == 0:\n",
    "        pub[country] = column_count"
   ]
  },
  {
   "cell_type": "code",
   "execution_count": 23,
   "id": "c1b7b3a5",
   "metadata": {},
   "outputs": [
    {
     "data": {
      "text/html": [
       "<div>\n",
       "<style scoped>\n",
       "    .dataframe tbody tr th:only-of-type {\n",
       "        vertical-align: middle;\n",
       "    }\n",
       "\n",
       "    .dataframe tbody tr th {\n",
       "        vertical-align: top;\n",
       "    }\n",
       "\n",
       "    .dataframe thead th {\n",
       "        text-align: right;\n",
       "    }\n",
       "</style>\n",
       "<table border=\"1\" class=\"dataframe\">\n",
       "  <thead>\n",
       "    <tr style=\"text-align: right;\">\n",
       "      <th></th>\n",
       "      <th>ODIS_ID</th>\n",
       "      <th>PUB_REF_TITLE</th>\n",
       "      <th>Language</th>\n",
       "      <th>Publication Year</th>\n",
       "      <th>Publication Period</th>\n",
       "      <th>Britain</th>\n",
       "      <th>France</th>\n",
       "      <th>Genève</th>\n",
       "      <th>Holy Roman Empire</th>\n",
       "      <th>Iberian Union</th>\n",
       "      <th>Italy</th>\n",
       "      <th>Low Countries</th>\n",
       "      <th>Most Involved Region</th>\n",
       "    </tr>\n",
       "  </thead>\n",
       "  <tbody>\n",
       "    <tr>\n",
       "      <th>0</th>\n",
       "      <td>35786</td>\n",
       "      <td>Refutatio locorum communium theologicorum, Phi...</td>\n",
       "      <td>LATIN</td>\n",
       "      <td>1563.0</td>\n",
       "      <td>1560s</td>\n",
       "      <td>0</td>\n",
       "      <td>0</td>\n",
       "      <td>0</td>\n",
       "      <td>0</td>\n",
       "      <td>0</td>\n",
       "      <td>0</td>\n",
       "      <td>1</td>\n",
       "      <td>Low Countries</td>\n",
       "    </tr>\n",
       "    <tr>\n",
       "      <th>1</th>\n",
       "      <td>35914</td>\n",
       "      <td>Refutatio locorum communium theologicorum Phil...</td>\n",
       "      <td>LATIN</td>\n",
       "      <td>1563.0</td>\n",
       "      <td>1560s</td>\n",
       "      <td>0</td>\n",
       "      <td>0</td>\n",
       "      <td>0</td>\n",
       "      <td>0</td>\n",
       "      <td>0</td>\n",
       "      <td>0</td>\n",
       "      <td>1</td>\n",
       "      <td>Low Countries</td>\n",
       "    </tr>\n",
       "    <tr>\n",
       "      <th>2</th>\n",
       "      <td>36812</td>\n",
       "      <td>Refutatio locorum communium theologicorum Phil...</td>\n",
       "      <td>LATIN</td>\n",
       "      <td>1563.0</td>\n",
       "      <td>1560s</td>\n",
       "      <td>0</td>\n",
       "      <td>0</td>\n",
       "      <td>0</td>\n",
       "      <td>0</td>\n",
       "      <td>0</td>\n",
       "      <td>0</td>\n",
       "      <td>0</td>\n",
       "      <td>NaN</td>\n",
       "    </tr>\n",
       "    <tr>\n",
       "      <th>3</th>\n",
       "      <td>35915</td>\n",
       "      <td>Oratio habita in sessione octava sacrosancti C...</td>\n",
       "      <td>LATIN</td>\n",
       "      <td>1563.0</td>\n",
       "      <td>1560s</td>\n",
       "      <td>0</td>\n",
       "      <td>1</td>\n",
       "      <td>0</td>\n",
       "      <td>0</td>\n",
       "      <td>0</td>\n",
       "      <td>0</td>\n",
       "      <td>2</td>\n",
       "      <td>Low Countries</td>\n",
       "    </tr>\n",
       "    <tr>\n",
       "      <th>4</th>\n",
       "      <td>35918</td>\n",
       "      <td>Regii vatis Davidis psalmi quinquaginta ordine...</td>\n",
       "      <td>LATIN</td>\n",
       "      <td>1565.0</td>\n",
       "      <td>1560s</td>\n",
       "      <td>0</td>\n",
       "      <td>0</td>\n",
       "      <td>0</td>\n",
       "      <td>0</td>\n",
       "      <td>0</td>\n",
       "      <td>0</td>\n",
       "      <td>1</td>\n",
       "      <td>Low Countries</td>\n",
       "    </tr>\n",
       "  </tbody>\n",
       "</table>\n",
       "</div>"
      ],
      "text/plain": [
       "   ODIS_ID                                      PUB_REF_TITLE Language  \\\n",
       "0    35786  Refutatio locorum communium theologicorum, Phi...    LATIN   \n",
       "1    35914  Refutatio locorum communium theologicorum Phil...    LATIN   \n",
       "2    36812  Refutatio locorum communium theologicorum Phil...    LATIN   \n",
       "3    35915  Oratio habita in sessione octava sacrosancti C...    LATIN   \n",
       "4    35918  Regii vatis Davidis psalmi quinquaginta ordine...    LATIN   \n",
       "\n",
       "   Publication Year Publication Period  Britain  France  Genève  \\\n",
       "0            1563.0              1560s        0       0       0   \n",
       "1            1563.0              1560s        0       0       0   \n",
       "2            1563.0              1560s        0       0       0   \n",
       "3            1563.0              1560s        0       1       0   \n",
       "4            1565.0              1560s        0       0       0   \n",
       "\n",
       "   Holy Roman Empire  Iberian Union  Italy  Low Countries Most Involved Region  \n",
       "0                  0              0      0              1        Low Countries  \n",
       "1                  0              0      0              1        Low Countries  \n",
       "2                  0              0      0              0                  NaN  \n",
       "3                  0              0      0              2        Low Countries  \n",
       "4                  0              0      0              1        Low Countries  "
      ]
     },
     "execution_count": 23,
     "metadata": {},
     "output_type": "execute_result"
    }
   ],
   "source": [
    "pub.head()"
   ]
  },
  {
   "cell_type": "markdown",
   "id": "98a64932",
   "metadata": {},
   "source": [
    "Calculate the best match tag"
   ]
  },
  {
   "cell_type": "code",
   "execution_count": 25,
   "id": "d8fd44e2",
   "metadata": {},
   "outputs": [],
   "source": [
    "meta = pd.read_csv('data/pub_filter.csv')\n",
    "rel = pd.read_csv('data/pub_relation.csv')\n",
    "pub = pd.read_csv('data/dist_pub.csv')\n",
    "per = pd.read_csv('data/dist_per.csv')"
   ]
  },
  {
   "cell_type": "code",
   "execution_count": 26,
   "id": "c9299c99",
   "metadata": {},
   "outputs": [],
   "source": [
    "# most involved region of publications\n",
    "most_region = []\n",
    "regions = pub.columns[5:12]\n",
    "for i in range(0, len(pub)):\n",
    "    region_row = pub.iloc[i, 5:12].to_list()\n",
    "    if sum(region_row) == 0:\n",
    "        most_region.append(None)\n",
    "    else:\n",
    "        max_region = []\n",
    "        for i in range(0, len(region_row)):\n",
    "            if region_row[i] == max(region_row):\n",
    "                max_region.append(regions[i])\n",
    "        if len(max_region) == 1:\n",
    "            most_region.append(max_region[0])\n",
    "        else:\n",
    "            most_region.append('Multi')\n",
    "pub['Most Involved Region'] = most_region"
   ]
  },
  {
   "cell_type": "code",
   "execution_count": 28,
   "id": "85891d94",
   "metadata": {},
   "outputs": [],
   "source": [
    "# most involved role of people\n",
    "most_role = []\n",
    "roles = per.columns[10:22]\n",
    "for i in range(0, len(per)):\n",
    "    role_row = per.iloc[i, 10:22].to_list()\n",
    "    if sum(role_row) == 0:\n",
    "        most_role.append(None)\n",
    "    else:\n",
    "        max_role = []\n",
    "        for i in range(0, len(role_row)):\n",
    "            if role_row[i] == max(role_row):\n",
    "                max_role.append(roles[i])\n",
    "        if len(max_role) == 1:\n",
    "            most_role.append(max_role[0])\n",
    "        else:\n",
    "            most_role.append('Multi')\n",
    "per['Most Involved Role'] = most_role"
   ]
  },
  {
   "cell_type": "code",
   "execution_count": 29,
   "id": "53ab7e77",
   "metadata": {},
   "outputs": [],
   "source": [
    "# most involved language of people\n",
    "most_lan = []\n",
    "lans = per.columns[22:28]\n",
    "for i in range(0, len(per)):\n",
    "    lan_row = per.iloc[i, 22:28].to_list()\n",
    "    if sum(lan_row) == 0:\n",
    "        most_lan.append(None)\n",
    "    else:\n",
    "        max_lan = []\n",
    "        for i in range(0, len(lan_row)):\n",
    "            if lan_row[i] == max(lan_row):\n",
    "                max_lan.append(lans[i])\n",
    "        if len(max_lan) == 1:\n",
    "            most_lan.append(max_lan[0])\n",
    "        else:\n",
    "            most_lan.append('Multi')\n",
    "per['Most Involved Language'] = most_lan"
   ]
  },
  {
   "cell_type": "code",
   "execution_count": 30,
   "id": "58817358",
   "metadata": {},
   "outputs": [],
   "source": [
    "# most involved period of people\n",
    "most_period = []\n",
    "periods = per.columns[28:39]\n",
    "for i in range(0, len(per)):\n",
    "    period_row = per.iloc[i, 28:39].to_list()\n",
    "    if sum(period_row) == 0:\n",
    "        period_lan.append(None)\n",
    "    else:\n",
    "        max_period = []\n",
    "        for i in range(0, len(period_row)):\n",
    "            if period_row[i] == max(period_row):\n",
    "                max_period.append(periods[i])\n",
    "        if len(max_period) == 1:\n",
    "            most_period.append(max_period[0])\n",
    "        else:\n",
    "            most_period.append('Multi')\n",
    "per['Most Involved Period'] = most_period"
   ]
  }
 ],
 "metadata": {
  "kernelspec": {
   "display_name": "Python 3 (ipykernel)",
   "language": "python",
   "name": "python3"
  },
  "language_info": {
   "codemirror_mode": {
    "name": "ipython",
    "version": 3
   },
   "file_extension": ".py",
   "mimetype": "text/x-python",
   "name": "python",
   "nbconvert_exporter": "python",
   "pygments_lexer": "ipython3",
   "version": "3.9.12"
  }
 },
 "nbformat": 4,
 "nbformat_minor": 5
}
